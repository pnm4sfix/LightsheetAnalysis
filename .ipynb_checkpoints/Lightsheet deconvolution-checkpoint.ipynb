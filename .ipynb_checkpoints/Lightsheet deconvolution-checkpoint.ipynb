{
 "cells": [
  {
   "cell_type": "code",
   "execution_count": 1,
   "metadata": {},
   "outputs": [],
   "source": [
    "from pycudadecon import decon\n",
    "import tifffile as tf\n",
    "import numpy as np\n",
    "from matplotlib import pyplot as plt\n",
    "from scipy.stats import describe\n",
    "from skimage import exposure\n",
    "from tkinter import filedialog\n",
    "import os\n",
    "from tqdm import tqdm\n",
    "import GPUtil\n",
    "%matplotlib notebook"
   ]
  },
  {
   "cell_type": "code",
   "execution_count": 2,
   "metadata": {},
   "outputs": [],
   "source": [
    "def get_gpu_size():\n",
    "    gpus = GPUtil.getGPUs()\n",
    "    \n",
    "    mem = gpus[0].memoryTotal\n",
    "\n",
    "    return mem"
   ]
  },
  {
   "cell_type": "code",
   "execution_count": 3,
   "metadata": {},
   "outputs": [],
   "source": [
    "def load_image(image_path):\n",
    "    data = {}\n",
    "    with tf.TiffFile(image_path) as tif:\n",
    "            data[\"volume\"] = tif.asarray()\n",
    "            data[\"axes\"] = tif.series[0].axes\n",
    "            #data[\"imagej_metadata\"] = tif.imagej_metadata\n",
    "            \n",
    "            \n",
    "            ij_data = tif.imagej_metadata\n",
    "            \n",
    "            try:\n",
    "                x_res = tif.pages[0].tags[\"XResolution\"]   \n",
    "                data[\"x_res\"] = x_res.value[1]/x_res.value[0]\n",
    "                y_res = tif.pages[0].tags[\"YResolution\"]\n",
    "                data[\"y_res\"] = y_res.value[1]/y_res.value[0]\n",
    "                data[\"X\"] = tif.pages[0].tags[\"ImageWidth\"].value\n",
    "                data[\"Y\"] = tif.pages[0].tags[\"ImageLength\"].value\n",
    "                data[\"z_step\"] = ij_data[\"spacing\"]\n",
    "                data[\"bits\"] = ij_data[\"Info\"].split(\"\\n\")[0].split(\"=\")[1]\n",
    "                data[\"name\"] = ij_data[\"Info\"].split(\"\\n\")[6].split(\"=\")[1]\n",
    "                wavelengths = [item for item in data[\"name\"].split(\"_\") if \n",
    "                           (item==\"470\")|(item ==\"560\")|(item==\"630\")]\n",
    "                data[\"wavelengths\"] = wavelengths\n",
    "            except:\n",
    "                data[\"x_res\"] = 1.0\n",
    "                data[\"y_res\"] = 1.0\n",
    "                data[\"z_step\"] = 1.0\n",
    "                data[\"bits\"] = 8.0\n",
    "            \n",
    "            \n",
    "    return data\n",
    "  "
   ]
  },
  {
   "cell_type": "code",
   "execution_count": 4,
   "metadata": {},
   "outputs": [],
   "source": [
    "def split_channels(im, wavelengths):\n",
    "    \"\"\"Split channels- assumes shape CZYX\"\"\"\n",
    "    channels = {}\n",
    "    for channel in range(im.shape[1]):\n",
    "        c = im[channel]\n",
    "        c = im[:, channel, :, :]\n",
    "        channels[wavelengths[channel]] = c\n",
    "    return channels\n",
    "        "
   ]
  },
  {
   "cell_type": "code",
   "execution_count": 5,
   "metadata": {},
   "outputs": [],
   "source": [
    "def plot_slices(channel):\n",
    "    \"\"\"Plot a selection of slices in a channel to compare\"\"\"\n",
    "    center_pos = int(channel.shape[0]/2)\n",
    "    mid_right_pos = int((channel.shape[0]/2)+channel.shape[0]/4)\n",
    "    mid_left_pos = int((channel.shape[0]/2)-channel.shape[0]/4)\n",
    "    fig, axes = plt.subplots(nrows = 1, ncols = 3, figsize = (10, 5))\n",
    "    for n, pos in enumerate([mid_left_pos, center_pos, mid_right_pos]):\n",
    "        ax = axes[n]\n",
    "        ax.imshow(channel[pos], vmin = 0., vmax = 65536, cmap = plt.cm.gray)\n",
    "        "
   ]
  },
  {
   "cell_type": "code",
   "execution_count": 6,
   "metadata": {},
   "outputs": [],
   "source": [
    "def deconvolution(channel, psf):\n",
    "    left_edge = False\n",
    "    right_edge = False\n",
    "    top_edge = False\n",
    "    bottom_edge = False\n",
    "    \n",
    "    if (channel.shape[1] % 5) == 0:\n",
    "        y_subsets = 5\n",
    "        y_size = int(channel.shape[1] / 5)\n",
    "    elif (channel.shape[1] % 4) == 0:\n",
    "        y_subsets = 4\n",
    "        y_size = int(channel.shape[1] / 4)\n",
    "    elif (channel.shape[1] % 3) == 0:\n",
    "        y_subsets = 3\n",
    "        y_size = int(channel.shape[1] / 3)\n",
    "        \n",
    "    \n",
    "    if (channel.shape[2] % 5) == 0:\n",
    "        x_subsets = 5\n",
    "        x_size = int(channel.shape[2] / 5)\n",
    "    elif (channel.shape[2] % 4) == 0:\n",
    "        x_subsets = 4\n",
    "        x_size = int(channel.shape[2] / 4)\n",
    "    elif (channel.shape[2] % 3) == 0:\n",
    "        x_subsets = 3\n",
    "        x_size = int(channel.shape[2] / 3)\n",
    "    \n",
    "    deconvolved_im = np.zeros([channel.shape[0]-10, channel.shape[1], channel.shape[2]])\n",
    "    \n",
    "    # how to add overlap\n",
    "    for y_no in range(y_subsets):\n",
    "        y2 = (y_no+1) * y_size\n",
    "        y1 = y2 - y_size\n",
    "        \n",
    "        \n",
    "\n",
    "        for x_no in range(x_subsets):\n",
    "            #print([y1, y2, x1, x2])\n",
    "            x2 = (x_no+1) * x_size\n",
    "            x1 = x2 -x_size\n",
    "            \n",
    "            subset = channel[:, y1:y2, x1:x2]\n",
    "            print(\"subset shape\" + str(subset.shape))\n",
    "            \n",
    "\n",
    "            result = decon(subset, psf[\"volume\"], \n",
    "            dx_data = data[\"x_res\"], \n",
    "            dz_data = data[\"z_step\"],\n",
    "            dx_psf = psf[\"x_res\"], \n",
    "            dz_psf = psf[\"z_step\"],\n",
    "            background = 0, n_iters = 15)\n",
    "            \n",
    "            \n",
    "            print(\"result shape\" +str(result.shape))\n",
    "            deconvolved_im[:, y1:y2, x1:x2] = result   \n",
    "\n",
    "\n",
    "            \n",
    "    #deconvolved_im = deconvolved_im.astype(\"uint8\")\n",
    "    \n",
    "    return deconvolved_im\n",
    "        "
   ]
  },
  {
   "cell_type": "code",
   "execution_count": 7,
   "metadata": {},
   "outputs": [],
   "source": [
    "def deconvolution_with_overlap(data, channel, psf, overlap):\n",
    "    left_edge = False\n",
    "    right_edge = False\n",
    "    top_edge = False\n",
    "    bottom_edge = False\n",
    "    \n",
    "    gpu_available = get_gpu_size()\n",
    "    channel_size = (channel.size * channel.itemsize)/1e6 # in mb\n",
    "    mem_ratio = int(np.ceil(gpu_available/channel_size))+1\n",
    "    \n",
    "    \n",
    "    \n",
    "    if (channel.shape[1] % mem_ratio) == 0:\n",
    "        y_subsets = mem_ratio\n",
    "        y_size = int(channel.shape[1] / mem_ratio)\n",
    "    elif (channel.shape[1] % (mem_ratio-1)) == 0:\n",
    "        y_subsets = mem_ratio-1\n",
    "        y_size = int(channel.shape[1] / mem_ratio-1)\n",
    "    elif (channel.shape[1] % (mem_ratio-2)) == 0:\n",
    "        y_subsets = mem_ratio-2\n",
    "        y_size = int(channel.shape[1] / mem_ratio-2)\n",
    "        \n",
    "    \n",
    "    if (channel.shape[2] % mem_ratio) == 0:\n",
    "        x_subsets = mem_ratio\n",
    "        x_size = int(channel.shape[2] / mem_ratio)\n",
    "    elif (channel.shape[2] % (mem_ratio-1)) == 0:\n",
    "        x_subsets = mem_ratio-1\n",
    "        x_size = int(channel.shape[2] / mem_ratio-1)\n",
    "    elif (channel.shape[2] % (mem_ratio-2)) == 0:\n",
    "        x_subsets = mem_ratio-2\n",
    "        x_size = int(channel.shape[2] / mem_ratio-2)\n",
    "    \n",
    "    #find largest stack range that matches up - run test decon to get shape that comes out\n",
    "    stack_subset = channel[:, :y_size, :x_size]\n",
    "    stack_result = decon(stack_subset, psf[\"volume\"], \n",
    "            dx_data = data[\"x_res\"], \n",
    "            dz_data = data[\"z_step\"],\n",
    "            dx_psf = psf[\"x_res\"], \n",
    "            dz_psf = psf[\"z_step\"],\n",
    "            background = 0, n_iters = 10)\n",
    "    \n",
    "    \"\"\"if stack_subset.shape == stack_result.shape:\n",
    "        decon_im_shape = stack_subset.shape\n",
    "    \n",
    "    else:\n",
    "        \n",
    "        print(stack_subset.shape)\n",
    "        print(stack_result.shape)\n",
    "        diff = stack_subset.shape[0]-stack_subset.shape[1]\n",
    "        stack_subset = stack_subset[:-diff]\n",
    "        stack_result = decon(stack_subset, psf[\"volume\"], \n",
    "            dx_data = data[\"x_res\"], \n",
    "            dz_data = data[\"z_step\"],\n",
    "            dx_psf = psf[\"x_res\"], \n",
    "            dz_psf = psf[\"z_step\"],\n",
    "            background = 0, n_iters = 10)\n",
    "        if stack_subset.shape == stack_result.shape:\n",
    "            decon_im_shape = stack_subset.shape\n",
    "        \n",
    "        else:\n",
    "            print(stack_subset.shape)\n",
    "            print(stack_result.shape)\n",
    "            diff = stack_subset.shape[0]-stack_subset.shape[1]\n",
    "            stack_subset = stack_subset[:-diff]\n",
    "            stack_result = decon(stack_subset, psf[\"volume\"], \n",
    "            dx_data = data[\"x_res\"], \n",
    "            dz_data = data[\"z_step\"],\n",
    "            dx_psf = psf[\"x_res\"], \n",
    "            dz_psf = psf[\"z_step\"],\n",
    "            background = 0, n_iters = 10)\n",
    "            \n",
    "            if stack_subset.shape == stack_result.shape:\n",
    "                decon_im_shape = stack_subset.shape\n",
    "                \n",
    "            else:\n",
    "                print(stack_subset.shape)\n",
    "                print(stack_result.shape)\n",
    "                diff = stack_subset.shape[0]-stack_subset.shape[1]\n",
    "                stack_subset = stack_subset[:-diff]\n",
    "                stack_result = decon(stack_subset, psf[\"volume\"], \n",
    "                dx_data = data[\"x_res\"], \n",
    "                dz_data = data[\"z_step\"],\n",
    "                dx_psf = psf[\"x_res\"], \n",
    "                dz_psf = psf[\"z_step\"],\n",
    "                background = 0, n_iters = 10)\n",
    "\n",
    "                if stack_subset.shape == stack_result.shape:\n",
    "                    decon_im_shape = stack_subset.shape\n",
    "                    \n",
    "                else:\n",
    "                    print(stack_subset.shape)\n",
    "                    print(stack_result.shape)\n",
    "                    print(\"couldnt find stack size\")\"\"\"\n",
    "            \n",
    "        \n",
    "    deconvolved_im = np.zeros([stack_result.shape[0], channel.shape[1], channel.shape[2]])\n",
    "    deconvolved_im[deconvolved_im == 0] = np.nan\n",
    "    \n",
    "    # how to add overlap\n",
    "    for y_no in tqdm(range(y_subsets+1)):\n",
    "        y_overlap = int(y_size * (overlap/100))\n",
    "        y1 = y_no * (y_size - y_overlap)\n",
    "        y2 = y1 + y_size\n",
    "        #print(\"y1 = {} and y2 = {}\".format(y1, y2))\n",
    "        \n",
    "        \n",
    "        if y1 == 0:\n",
    "            top_edge = True\n",
    "                \n",
    "            print(\"top edge\")\n",
    "        else:\n",
    "            top_edge = False\n",
    "            \n",
    "        if y1 > channel.shape[1] - y_size:\n",
    "            bottom_edge = True\n",
    "            print(\"bottom edge\")\n",
    "            y2 = channel.shape[1]\n",
    "            \n",
    "        \n",
    "        else:\n",
    "            bottom_edge = False\n",
    "            \n",
    "        \n",
    "\n",
    "        for x_no in tqdm(range(x_subsets+1)):\n",
    "            \n",
    "            x_overlap = int(x_size * (overlap/100))\n",
    "            x1 = x_no * (x_size - x_overlap)\n",
    "            x2 = x1 + x_size\n",
    "            #print(\"x1 = {} and x2 = {}\".format(x1, x2))\n",
    "            \n",
    "            \n",
    "            if x1 == 0:\n",
    "                left_edge = True\n",
    "                \n",
    "                print(\"left_edge\")\n",
    "            else:\n",
    "                left_edge = False\n",
    "            if x1 > channel.shape[2] -x_size:\n",
    "                right_edge = True\n",
    "                print(\"right edge\")\n",
    "                x2 = channel.shape[2]\n",
    "                \n",
    "            \n",
    "            else:\n",
    "                right_edge = False\n",
    "                \n",
    "            \n",
    "            subset = channel[:, y1:y2, x1:x2]\n",
    "            #print(\"subset shape\" + str(subset.shape))\n",
    "            #print(\"subset dtype is {}\".format(subset.dtype))\n",
    "            \n",
    "            result = decon(subset, psf[\"volume\"], \n",
    "            dx_data = data[\"x_res\"], \n",
    "            dz_data = data[\"z_step\"],\n",
    "            dx_psf = psf[\"x_res\"], \n",
    "            dz_psf = psf[\"z_step\"],\n",
    "            background = 0, n_iters = 10) # try change to 50\n",
    "            \n",
    "            \n",
    "            diff = np.array(subset.shape) - np.array(result.shape)\n",
    "            \n",
    "            #print(\"result dtype is {}\".format(result.dtype))\n",
    "            result2 = np.nanmedian([deconvolved_im[:, y1:y2-diff[1], x1:x2-diff[2]], result], axis=0)\n",
    "                \n",
    "            #print(\"result2 dtype is {}\".format(result2.dtype))\n",
    "            #print(\"result shape\" +str(result.shape))\n",
    "            deconvolved_im[:, y1:y2-diff[1], x1:x2-diff[2]] = result2   \n",
    "\n",
    "\n",
    "    \n",
    "    return deconvolved_im\n",
    "        "
   ]
  },
  {
   "cell_type": "code",
   "execution_count": 8,
   "metadata": {},
   "outputs": [],
   "source": [
    "def select_file():\n",
    "    image_path = filedialog.askopenfilename()\n",
    "    return image_path"
   ]
  },
  {
   "cell_type": "code",
   "execution_count": 9,
   "metadata": {},
   "outputs": [],
   "source": [
    "def run(stitched= False, wv = None):\n",
    "    \n",
    "    \"\"\"Select File\"\"\"\n",
    "    image = select_file()\n",
    "    \n",
    "    \"\"\"Load Image\"\"\"\n",
    "    data = load_image(image)\n",
    "    \n",
    "    if stitched:\n",
    "        channels = {wv : data[\"volume\"]}\n",
    "    else:\n",
    "        \"\"\"Split into separate channels\"\"\"\n",
    "        channels = split_channels(data[\"volume\"], data[\"wavelengths\"])\n",
    "    \n",
    "    \"\"\"Assign psf file locations\"\"\"\n",
    "    psf_470 = '/Pierce/Lightsheet PSF_Macros/PSF 470 16 bit.tif'\n",
    "    psf_560 = '/Pierce/Lightsheet PSF_Macros/PSF 560 16 bit.tif'\n",
    "    psf_630 = '/Pierce/Lightsheet PSF_Macros/PSF 630 16 bit.tif'\n",
    "    \n",
    "    psf_dict= {\"470\": psf_470,\n",
    "               \"560\": psf_560,\n",
    "               \"630\": psf_630}\n",
    "    \n",
    "    \"\"\"Loop through each channel, load the associated psf\"\"\"\n",
    "    for wavelength, channel in tqdm(channels.items()):\n",
    "        psf_path = psf_dict[wavelength]\n",
    "        psf = load_image(psf_path)\n",
    "        decon_im = deconvolution_with_overlap(data, channel, psf, overlap =10)\n",
    "        print(decon_im.dtype)\n",
    "        decon_im = decon_im.astype(\"float32\")\n",
    "        #plot_slices(decon_im)\n",
    "        \"\"\"Export deconvolved image for imagej\"\"\"\n",
    "        tf.imwrite(image[:-4]+\"_\"+wavelength+\".tif\", decon_im, \n",
    "                   imagej=True, resolution=(1/data[\"x_res\"], 1/data[\"y_res\"]),\n",
    "                   metadata={'spacing': data[\"z_step\"], 'unit': 'um', 'axes': 'ZYX'})\n",
    "        channels[wavelength] = decon_im\n",
    "    \n",
    "    return channels, data\n",
    "        \n",
    "        \n",
    "    \n",
    "    "
   ]
  },
  {
   "cell_type": "code",
   "execution_count": 10,
   "metadata": {},
   "outputs": [
    {
     "name": "stderr",
     "output_type": "stream",
     "text": [
      "  0%|                                                                                            | 0/3 [00:00<?, ?it/s]\n",
      "  0%|                                                                                            | 0/3 [00:00<?, ?it/s]\u001b[A\n",
      "\n",
      "  0%|                                                                                            | 0/4 [00:00<?, ?it/s]\u001b[A\u001b[A"
     ]
    },
    {
     "name": "stdout",
     "output_type": "stream",
     "text": [
      "top edge\n",
      "left_edge\n"
     ]
    },
    {
     "name": "stderr",
     "output_type": "stream",
     "text": [
      "\n",
      "\n",
      " 25%|█████████████████████                                                               | 1/4 [01:34<04:42, 94.19s/it]\u001b[A\u001b[A\n",
      "\n",
      " 50%|██████████████████████████████████████████                                          | 2/4 [03:10<03:11, 95.60s/it]\u001b[A\u001b[A\n",
      "\n",
      " 75%|███████████████████████████████████████████████████████████████                     | 3/4 [04:48<01:36, 96.44s/it]\u001b[A\u001b[A"
     ]
    },
    {
     "name": "stdout",
     "output_type": "stream",
     "text": [
      "right edge\n"
     ]
    },
    {
     "name": "stderr",
     "output_type": "stream",
     "text": [
      "\n",
      "\n",
      "100%|████████████████████████████████████████████████████████████████████████████████████| 4/4 [05:08<00:00, 77.07s/it]\u001b[A\u001b[A\n",
      "\n",
      " 33%|███████████████████████████▋                                                       | 1/3 [05:08<10:16, 308.27s/it]\u001b[A\n",
      "\n",
      "  0%|                                                                                            | 0/4 [00:00<?, ?it/s]\u001b[A\u001b[A"
     ]
    },
    {
     "name": "stdout",
     "output_type": "stream",
     "text": [
      "left_edge\n"
     ]
    },
    {
     "name": "stderr",
     "output_type": "stream",
     "text": [
      "\n",
      "\n",
      " 25%|█████████████████████                                                               | 1/4 [01:35<04:46, 95.60s/it]\u001b[A\u001b[A\n",
      "\n",
      " 50%|██████████████████████████████████████████                                          | 2/4 [03:12<03:12, 96.09s/it]\u001b[A\u001b[A\n",
      "\n",
      " 75%|███████████████████████████████████████████████████████████████                     | 3/4 [04:46<01:35, 95.47s/it]\u001b[A\u001b[A"
     ]
    },
    {
     "name": "stdout",
     "output_type": "stream",
     "text": [
      "right edge\n"
     ]
    },
    {
     "name": "stderr",
     "output_type": "stream",
     "text": [
      "\n",
      "\n",
      "100%|████████████████████████████████████████████████████████████████████████████████████| 4/4 [05:07<00:00, 76.80s/it]\u001b[A\u001b[A\n",
      "\n",
      " 67%|███████████████████████████████████████████████████████▎                           | 2/3 [10:15<05:07, 307.64s/it]\u001b[A\n",
      "\n",
      "  0%|                                                                                            | 0/4 [00:00<?, ?it/s]\u001b[A\u001b[A"
     ]
    },
    {
     "name": "stdout",
     "output_type": "stream",
     "text": [
      "left_edge\n"
     ]
    },
    {
     "name": "stderr",
     "output_type": "stream",
     "text": [
      "\n",
      "\n",
      " 25%|█████████████████████                                                               | 1/4 [01:34<04:44, 94.76s/it]\u001b[A\u001b[A\n",
      "\n",
      " 50%|██████████████████████████████████████████                                          | 2/4 [03:10<03:10, 95.44s/it]\u001b[A\u001b[A\n",
      "\n",
      " 75%|███████████████████████████████████████████████████████████████                     | 3/4 [04:44<01:34, 94.88s/it]\u001b[A\u001b[A"
     ]
    },
    {
     "name": "stdout",
     "output_type": "stream",
     "text": [
      "right edge\n"
     ]
    },
    {
     "name": "stderr",
     "output_type": "stream",
     "text": [
      "\n",
      "\n",
      "100%|████████████████████████████████████████████████████████████████████████████████████| 4/4 [05:05<00:00, 76.33s/it]\u001b[A\u001b[A\n",
      "\n",
      "100%|███████████████████████████████████████████████████████████████████████████████████| 3/3 [15:20<00:00, 306.93s/it]\u001b[A\n"
     ]
    },
    {
     "name": "stdout",
     "output_type": "stream",
     "text": [
      "float64\n"
     ]
    },
    {
     "name": "stderr",
     "output_type": "stream",
     "text": [
      "C:\\Users\\pnm1\\.conda\\envs\\decon_env\\lib\\site-packages\\tifffile\\tifffile.py:2623: UserWarning: TiffWriter: truncating ImageJ file\n",
      "  'TiffWriter: truncating ImageJ file', UserWarning\n",
      " 33%|███████████████████████████▋                                                       | 1/3 [16:37<33:14, 997.23s/it]\n",
      "  0%|                                                                                            | 0/3 [00:00<?, ?it/s]\u001b[A\n",
      "\n",
      "  0%|                                                                                            | 0/4 [00:00<?, ?it/s]\u001b[A\u001b[A"
     ]
    },
    {
     "name": "stdout",
     "output_type": "stream",
     "text": [
      "top edge\n",
      "left_edge\n"
     ]
    },
    {
     "name": "stderr",
     "output_type": "stream",
     "text": [
      "\n",
      "\n",
      " 25%|█████████████████████                                                               | 1/4 [01:31<04:33, 91.27s/it]\u001b[A\u001b[A\n",
      "\n",
      " 50%|██████████████████████████████████████████                                          | 2/4 [03:06<03:07, 93.74s/it]\u001b[A\u001b[A\n",
      "\n",
      " 75%|███████████████████████████████████████████████████████████████                     | 3/4 [04:44<01:35, 95.50s/it]\u001b[A\u001b[A"
     ]
    },
    {
     "name": "stdout",
     "output_type": "stream",
     "text": [
      "right edge\n"
     ]
    },
    {
     "name": "stderr",
     "output_type": "stream",
     "text": [
      "\n",
      "\n",
      "100%|████████████████████████████████████████████████████████████████████████████████████| 4/4 [05:04<00:00, 76.08s/it]\u001b[A\u001b[A\n",
      "\n",
      " 33%|███████████████████████████▋                                                       | 1/3 [05:04<10:08, 304.31s/it]\u001b[A\n",
      "\n",
      "  0%|                                                                                            | 0/4 [00:00<?, ?it/s]\u001b[A\u001b[A"
     ]
    },
    {
     "name": "stdout",
     "output_type": "stream",
     "text": [
      "left_edge\n"
     ]
    },
    {
     "name": "stderr",
     "output_type": "stream",
     "text": [
      "\n",
      "\n",
      " 25%|█████████████████████                                                               | 1/4 [01:32<04:36, 92.21s/it]\u001b[A\u001b[A\n",
      "\n",
      " 50%|██████████████████████████████████████████                                          | 2/4 [03:07<03:08, 94.10s/it]\u001b[A\u001b[A\n",
      "\n",
      " 75%|███████████████████████████████████████████████████████████████                     | 3/4 [04:41<01:33, 93.79s/it]\u001b[A\u001b[A"
     ]
    },
    {
     "name": "stdout",
     "output_type": "stream",
     "text": [
      "right edge\n"
     ]
    },
    {
     "name": "stderr",
     "output_type": "stream",
     "text": [
      "\n",
      "\n",
      "100%|████████████████████████████████████████████████████████████████████████████████████| 4/4 [05:00<00:00, 75.17s/it]\u001b[A\u001b[A\n",
      "\n",
      " 67%|███████████████████████████████████████████████████████▎                           | 2/3 [10:05<05:02, 302.18s/it]\u001b[A\n",
      "\n",
      "  0%|                                                                                            | 0/4 [00:00<?, ?it/s]\u001b[A\u001b[A"
     ]
    },
    {
     "name": "stdout",
     "output_type": "stream",
     "text": [
      "left_edge\n"
     ]
    },
    {
     "name": "stderr",
     "output_type": "stream",
     "text": [
      "\n",
      "\n",
      " 25%|█████████████████████                                                               | 1/4 [01:32<04:37, 92.38s/it]\u001b[A\u001b[A\n",
      "\n",
      " 50%|██████████████████████████████████████████                                          | 2/4 [03:02<03:02, 91.33s/it]\u001b[A\u001b[A\n",
      "\n",
      " 75%|███████████████████████████████████████████████████████████████                     | 3/4 [04:34<01:31, 91.25s/it]\u001b[A\u001b[A"
     ]
    },
    {
     "name": "stdout",
     "output_type": "stream",
     "text": [
      "right edge\n"
     ]
    },
    {
     "name": "stderr",
     "output_type": "stream",
     "text": [
      "\n",
      "\n",
      "100%|████████████████████████████████████████████████████████████████████████████████████| 4/4 [04:53<00:00, 73.32s/it]\u001b[A\u001b[A\n",
      "\n",
      "100%|███████████████████████████████████████████████████████████████████████████████████| 3/3 [14:58<00:00, 299.43s/it]\u001b[A\n"
     ]
    },
    {
     "name": "stdout",
     "output_type": "stream",
     "text": [
      "float64\n"
     ]
    },
    {
     "name": "stderr",
     "output_type": "stream",
     "text": [
      " 67%|███████████████████████████████████████████████████████▎                           | 2/3 [32:48<16:21, 981.87s/it]\n",
      "  0%|                                                                                            | 0/3 [00:00<?, ?it/s]\u001b[A\n",
      "\n",
      "  0%|                                                                                            | 0/4 [00:00<?, ?it/s]\u001b[A\u001b[A"
     ]
    },
    {
     "name": "stdout",
     "output_type": "stream",
     "text": [
      "top edge\n",
      "left_edge\n"
     ]
    },
    {
     "name": "stderr",
     "output_type": "stream",
     "text": [
      "\n",
      "\n",
      " 25%|█████████████████████                                                               | 1/4 [01:31<04:33, 91.24s/it]\u001b[A\u001b[A\n",
      "\n",
      " 50%|██████████████████████████████████████████                                          | 2/4 [03:03<03:03, 91.72s/it]\u001b[A\u001b[A\n",
      "\n",
      " 75%|███████████████████████████████████████████████████████████████                     | 3/4 [04:33<01:30, 90.91s/it]\u001b[A\u001b[A"
     ]
    },
    {
     "name": "stdout",
     "output_type": "stream",
     "text": [
      "right edge\n"
     ]
    },
    {
     "name": "stderr",
     "output_type": "stream",
     "text": [
      "\n",
      "\n",
      "100%|████████████████████████████████████████████████████████████████████████████████████| 4/4 [04:52<00:00, 73.16s/it]\u001b[A\u001b[A\n",
      "\n",
      " 33%|███████████████████████████▋                                                       | 1/3 [04:52<09:45, 292.65s/it]\u001b[A\n",
      "\n",
      "  0%|                                                                                            | 0/4 [00:00<?, ?it/s]\u001b[A\u001b[A"
     ]
    },
    {
     "name": "stdout",
     "output_type": "stream",
     "text": [
      "left_edge\n"
     ]
    },
    {
     "name": "stderr",
     "output_type": "stream",
     "text": [
      "\n",
      "\n",
      " 25%|█████████████████████                                                               | 1/4 [01:30<04:31, 90.49s/it]\u001b[A\u001b[A\n",
      "\n",
      " 50%|██████████████████████████████████████████                                          | 2/4 [03:03<03:03, 92.00s/it]\u001b[A\u001b[A\n",
      "\n",
      " 75%|███████████████████████████████████████████████████████████████                     | 3/4 [04:35<01:32, 92.16s/it]\u001b[A\u001b[A"
     ]
    },
    {
     "name": "stdout",
     "output_type": "stream",
     "text": [
      "right edge\n"
     ]
    },
    {
     "name": "stderr",
     "output_type": "stream",
     "text": [
      "\n",
      "\n",
      "100%|████████████████████████████████████████████████████████████████████████████████████| 4/4 [04:55<00:00, 73.89s/it]\u001b[A\u001b[A\n",
      "\n",
      " 67%|███████████████████████████████████████████████████████▎                           | 2/3 [09:48<04:54, 294.37s/it]\u001b[A\n",
      "\n",
      "  0%|                                                                                            | 0/4 [00:00<?, ?it/s]\u001b[A\u001b[A"
     ]
    },
    {
     "name": "stdout",
     "output_type": "stream",
     "text": [
      "left_edge\n"
     ]
    },
    {
     "name": "stderr",
     "output_type": "stream",
     "text": [
      "\n",
      "\n",
      " 25%|█████████████████████                                                               | 1/4 [01:29<04:27, 89.18s/it]\u001b[A\u001b[A\n",
      "\n",
      " 50%|██████████████████████████████████████████                                          | 2/4 [02:59<02:59, 89.85s/it]\u001b[A\u001b[A\n",
      "\n",
      " 75%|███████████████████████████████████████████████████████████████                     | 3/4 [04:30<01:30, 90.47s/it]\u001b[A\u001b[A"
     ]
    },
    {
     "name": "stdout",
     "output_type": "stream",
     "text": [
      "right edge\n"
     ]
    },
    {
     "name": "stderr",
     "output_type": "stream",
     "text": [
      "\n",
      "\n",
      "100%|████████████████████████████████████████████████████████████████████████████████████| 4/4 [04:49<00:00, 72.40s/it]\u001b[A\u001b[A\n",
      "\n",
      "100%|███████████████████████████████████████████████████████████████████████████████████| 3/3 [14:37<00:00, 292.61s/it]\u001b[A\n"
     ]
    },
    {
     "name": "stdout",
     "output_type": "stream",
     "text": [
      "float64\n"
     ]
    },
    {
     "name": "stderr",
     "output_type": "stream",
     "text": [
      "100%|███████████████████████████████████████████████████████████████████████████████████| 3/3 [48:37<00:00, 972.62s/it]\n"
     ]
    }
   ],
   "source": [
    "channels, data = run()\n",
    "#channels, data = run(True, \"560\")"
   ]
  },
  {
   "cell_type": "code",
   "execution_count": 11,
   "metadata": {},
   "outputs": [
    {
     "ename": "NameError",
     "evalue": "name 'ikjhkj' is not defined",
     "output_type": "error",
     "traceback": [
      "\u001b[1;31m---------------------------------------------------------------------------\u001b[0m",
      "\u001b[1;31mNameError\u001b[0m                                 Traceback (most recent call last)",
      "\u001b[1;32m<ipython-input-11-754cf0f970ff>\u001b[0m in \u001b[0;36m<module>\u001b[1;34m\u001b[0m\n\u001b[1;32m----> 1\u001b[1;33m \u001b[0mikjhkj\u001b[0m\u001b[1;33m\u001b[0m\u001b[1;33m\u001b[0m\u001b[0m\n\u001b[0m\u001b[0;32m      2\u001b[0m \u001b[0mimage\u001b[0m \u001b[1;33m=\u001b[0m \u001b[0mselect_file\u001b[0m\u001b[1;33m(\u001b[0m\u001b[1;33m)\u001b[0m\u001b[1;33m\u001b[0m\u001b[1;33m\u001b[0m\u001b[0m\n\u001b[0;32m      3\u001b[0m \u001b[1;33m\u001b[0m\u001b[0m\n\u001b[0;32m      4\u001b[0m \u001b[1;34m\"\"\"Load Image\"\"\"\u001b[0m\u001b[1;33m\u001b[0m\u001b[1;33m\u001b[0m\u001b[0m\n\u001b[0;32m      5\u001b[0m \u001b[0mdata\u001b[0m \u001b[1;33m=\u001b[0m \u001b[0mload_image\u001b[0m\u001b[1;33m(\u001b[0m\u001b[0mimage\u001b[0m\u001b[1;33m)\u001b[0m\u001b[1;33m\u001b[0m\u001b[1;33m\u001b[0m\u001b[0m\n",
      "\u001b[1;31mNameError\u001b[0m: name 'ikjhkj' is not defined"
     ]
    }
   ],
   "source": [
    "ikjhkj\n",
    "image = select_file()\n",
    "    \n",
    "\"\"\"Load Image\"\"\"\n",
    "data = load_image(image)"
   ]
  },
  {
   "cell_type": "code",
   "execution_count": null,
   "metadata": {},
   "outputs": [],
   "source": [
    "with tf.TiffFile(image) as tif:\n",
    "            print(tif.pages[0].tags)\n",
    "            ij_data = tif.imagej_metadata\n",
    "\n",
    "#ij_data            "
   ]
  },
  {
   "cell_type": "code",
   "execution_count": null,
   "metadata": {},
   "outputs": [],
   "source": [
    "name = ij_data[\"Info\"].split(\"\\n\")[6].split(\"=\")[1]\n",
    "wavelengths = [item for item in name.split(\"_\") if \n",
    "                           (item==\"470\")|(item ==\"560\")|(item==\"630\")]\n",
    "wavelengths"
   ]
  },
  {
   "cell_type": "markdown",
   "metadata": {},
   "source": [
    "### Load data"
   ]
  },
  {
   "cell_type": "code",
   "execution_count": null,
   "metadata": {},
   "outputs": [],
   "source": [
    "#image = '/Pierce/DRG/Rat2/DRG1/DRG1.ome'\n",
    "#psf_path = '/Pierce/Lightsheet PSF_Macros/560 PSF 8bit.tif'\n",
    "#psf_path = '/Pierce/Lightsheet PSF_Macros/PSF-16bit.tif'\n",
    "#result = decon(image_path, psf_path)\n",
    "#data = load_image(image)"
   ]
  },
  {
   "cell_type": "code",
   "execution_count": null,
   "metadata": {},
   "outputs": [],
   "source": [
    "#gpus = get_gpu_size()\n",
    "#mem = gpus[0].memoryTotal\n",
    "\n"
   ]
  },
  {
   "cell_type": "markdown",
   "metadata": {},
   "source": [
    "### Split channels"
   ]
  },
  {
   "cell_type": "code",
   "execution_count": null,
   "metadata": {},
   "outputs": [],
   "source": [
    "#channels = split_channels(data[\"volume\"], data[\"wavelengths\"])"
   ]
  },
  {
   "cell_type": "code",
   "execution_count": null,
   "metadata": {},
   "outputs": [],
   "source": [
    "c1 = channels[\"560\"]"
   ]
  },
  {
   "cell_type": "code",
   "execution_count": null,
   "metadata": {},
   "outputs": [],
   "source": [
    "file_size = (c1.size * c1.itemsize)/1e6"
   ]
  },
  {
   "cell_type": "code",
   "execution_count": null,
   "metadata": {},
   "outputs": [],
   "source": [
    "file_size/4"
   ]
  },
  {
   "cell_type": "code",
   "execution_count": null,
   "metadata": {},
   "outputs": [],
   "source": [
    "np.ceil(mem/file_size)"
   ]
  },
  {
   "cell_type": "code",
   "execution_count": null,
   "metadata": {},
   "outputs": [],
   "source": [
    "##data[\"x_res\"]\n"
   ]
  },
  {
   "cell_type": "code",
   "execution_count": null,
   "metadata": {},
   "outputs": [],
   "source": [
    "#data[\"z_step\"]"
   ]
  },
  {
   "cell_type": "code",
   "execution_count": null,
   "metadata": {},
   "outputs": [],
   "source": [
    "channels[\"560\"] = channels[\"560\"].astype(\"uint16\")"
   ]
  },
  {
   "cell_type": "code",
   "execution_count": null,
   "metadata": {},
   "outputs": [],
   "source": [
    "channels[\"560\"]"
   ]
  },
  {
   "cell_type": "code",
   "execution_count": null,
   "metadata": {},
   "outputs": [],
   "source": [
    "#tf.imwrite(image[-4:]+\"_560\"+\".tif\", channels[\"560\"], \n",
    "                   imagej=True, resolution=(1/data[\"x_res\"], 1/data[\"y_res\"]),\n",
    "                   metadata={'spacing': data[\"z_step\"], 'unit': 'um', 'axes': 'ZYX'})"
   ]
  },
  {
   "cell_type": "markdown",
   "metadata": {},
   "source": [
    "### Load psf image"
   ]
  },
  {
   "cell_type": "code",
   "execution_count": null,
   "metadata": {},
   "outputs": [],
   "source": [
    "#psf = load_image(psf_path)"
   ]
  },
  {
   "cell_type": "markdown",
   "metadata": {},
   "source": [
    "### Deconvolve and stitch"
   ]
  },
  {
   "cell_type": "code",
   "execution_count": null,
   "metadata": {},
   "outputs": [],
   "source": [
    "#deconvolved_im = deconvolution(c1, psf) # i think decon is changing output shape \n",
    "#maybe try ensuring shape output is right\n",
    "# maybe just try stitching with no overlap"
   ]
  },
  {
   "cell_type": "code",
   "execution_count": null,
   "metadata": {},
   "outputs": [],
   "source": [
    "#decon_im = deconvolution_with_overlap(c1, psf, overlap =10) "
   ]
  },
  {
   "cell_type": "code",
   "execution_count": null,
   "metadata": {},
   "outputs": [],
   "source": [
    "image"
   ]
  },
  {
   "cell_type": "code",
   "execution_count": null,
   "metadata": {},
   "outputs": [],
   "source": [
    "#np.array(c1.shape)-np.array(c1.shape)"
   ]
  },
  {
   "cell_type": "code",
   "execution_count": null,
   "metadata": {},
   "outputs": [],
   "source": [
    "2160/5"
   ]
  },
  {
   "cell_type": "code",
   "execution_count": null,
   "metadata": {},
   "outputs": [],
   "source": [
    "2560/5"
   ]
  },
  {
   "cell_type": "code",
   "execution_count": null,
   "metadata": {},
   "outputs": [],
   "source": [
    "#c1_8bit[0,0, :2160]"
   ]
  },
  {
   "cell_type": "code",
   "execution_count": null,
   "metadata": {},
   "outputs": [],
   "source": [
    "\"\"\"Gamma then rolling ball\"\"\""
   ]
  },
  {
   "cell_type": "code",
   "execution_count": null,
   "metadata": {},
   "outputs": [],
   "source": [
    "256*256"
   ]
  },
  {
   "cell_type": "code",
   "execution_count": null,
   "metadata": {},
   "outputs": [],
   "source": [
    "#plot_slices(c1)\n",
    "#plot_slices(deconvolved_im)\n",
    "#plot_slices(decon_im_overlap)\n",
    "#plot_slices(result)\n",
    "#plot_slices(bk)\n",
    "#plot_slices(bk_im)\n"
   ]
  },
  {
   "cell_type": "code",
   "execution_count": null,
   "metadata": {},
   "outputs": [],
   "source": []
  },
  {
   "cell_type": "markdown",
   "metadata": {},
   "source": [
    "## Now check in ImageJ - do further processing such as background subtraction and gamma adjustment etc if neccesary"
   ]
  },
  {
   "cell_type": "code",
   "execution_count": null,
   "metadata": {},
   "outputs": [],
   "source": [
    "\n",
    "#result = exposure.adjust_gamma(deconvolved_im, 0.5)\n",
    "#result = (result*256).astype(\"uint16\")\n",
    "#deconvolved_im"
   ]
  },
  {
   "cell_type": "code",
   "execution_count": null,
   "metadata": {},
   "outputs": [],
   "source": []
  }
 ],
 "metadata": {
  "kernelspec": {
   "display_name": "Python 3",
   "language": "python",
   "name": "python3"
  },
  "language_info": {
   "codemirror_mode": {
    "name": "ipython",
    "version": 3
   },
   "file_extension": ".py",
   "mimetype": "text/x-python",
   "name": "python",
   "nbconvert_exporter": "python",
   "pygments_lexer": "ipython3",
   "version": "3.7.9"
  }
 },
 "nbformat": 4,
 "nbformat_minor": 4
}
