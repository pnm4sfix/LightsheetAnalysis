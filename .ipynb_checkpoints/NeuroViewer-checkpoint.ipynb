{
 "cells": [
  {
   "cell_type": "code",
   "execution_count": 1,
   "id": "d4820c3e-d01f-40e4-b1ae-2fbfcbedc1d3",
   "metadata": {},
   "outputs": [
    {
     "name": "stderr",
     "output_type": "stream",
     "text": [
      "C:\\Users\\pierc\\Anaconda3\\envs\\Pytorch\\lib\\site-packages\\cupy\\_environment.py:213: UserWarning: CUDA path could not be detected. Set CUDA_PATH environment variable if CuPy fails to load.\n",
      "  warnings.warn(\n"
     ]
    }
   ],
   "source": [
    "import napari\n",
    "import numpy as np\n",
    "from skimage import data\n",
    "\n",
    "import napari_plot\n",
    "from napari_plot._qt.qt_viewer import QtViewer\n",
    "from dask_image.imread import imread\n",
    "from magicgui.widgets import ComboBox, Container, PushButton, SpinBox, FileEdit\n",
    "\n",
    "from dask_image import imread\n",
    "import pandas as pd\n",
    "import dask.array as da\n",
    "import os\n",
    "import dask.dataframe as dd"
   ]
  },
  {
   "cell_type": "code",
   "execution_count": 155,
   "id": "326edfc5-d3b9-4db1-bf9f-3e158f83ac53",
   "metadata": {},
   "outputs": [],
   "source": [
    "class neuro_viewer(object):\n",
    "    \n",
    "    im = None\n",
    "    denoised_dir = None\n",
    "    volume_df = None\n",
    "    coms_df = None\n",
    "    con_df = None\n",
    "    dff_tidy = None\n",
    "    \n",
    "    \n",
    "    def __init__(self, fr = 3.07):\n",
    "        \n",
    "        \n",
    "\n",
    "        self.viewer = napari.Viewer()\n",
    "        self.viewer.add_image(np.zeros((512, 512)))\n",
    "        self.im_subset = self.viewer.layers[0]\n",
    "        self.im_subset.colormap = \"inferno\"\n",
    "        self.stim_icon = self.viewer.add_shapes(np.array([[0, 0, 0],\n",
    "                                                           [0, 0, 0],\n",
    "                                                           [0, 0, 0],\n",
    "                                                           [0, 0, 0]]), shape_type='rectangle', edge_width=5,\n",
    "                                                            edge_color='#55ff00', face_color = \"#55ff00\")\n",
    "        #self.all_rois = self.viewer.add_shapes(shape_type = \"polygon\", edge_width=0.2,\n",
    "        #                  edge_color='white', face_color='transparent', ndim = 4)\n",
    "        self.select_roi = self.viewer.add_shapes(shape_type='polygon', edge_width=0.2,\n",
    "                          edge_color='white', face_color='transparent', ndim = 4)\n",
    "        \n",
    "        self.im_subset.contrast_limits = (0, 255)\n",
    "        self.fr = fr\n",
    "        \n",
    "        \n",
    "        # create label menus for stim, trial, angle, velocity\n",
    "        #update choices as required when stim is changed\n",
    "        self.stim_menu = ComboBox(label='Stim', choices = [\"visual\", \"motion\", \"flow\"], tooltip = \"Select stim\")\n",
    "        self.trial_menu = ComboBox(label='Trial', choices = [], tooltip = \"Select stim\")\n",
    "        self.angle_menu = ComboBox(label='Angle', choices = [], tooltip = \"Select stim\")\n",
    "        self.velocity_menu = ComboBox(label='Velocity', choices = [], tooltip = \"Select stim\")\n",
    "        \n",
    "        \n",
    "        dropdown_widget = Container(widgets=[self.stim_menu, self.trial_menu, self.angle_menu, self.velocity_menu])\n",
    "        \n",
    "        \n",
    "        self.stim_menu.changed.connect(self.stim_changed)\n",
    "        self.trial_menu.changed.connect(self.trial_changed)\n",
    "        self.angle_menu.changed.connect(self.angle_changed)\n",
    "        self.velocity_menu.changed.connect(self.velocity_changed)\n",
    "        \n",
    "        \n",
    "        \n",
    "        \n",
    "        self.cell_ids = SpinBox(label = \"cell_id\", tooltip = \"change cell\")\n",
    "        cell_widget = Container(widgets=[self.cell_ids])\n",
    "        \n",
    "        self.volume_df_picker= FileEdit(value='./Select volume_df.h5', tooltip = \"Select volume_df\")\n",
    "        \n",
    "        file_widget = Container(widgets=[self.volume_df_picker])\n",
    "        self.volume_df_picker.changed.connect(self.volume_df_picker_changed)\n",
    "        self.viewer.window.add_dock_widget(dropdown_widget)\n",
    "        self.viewer.window.add_dock_widget(cell_widget)\n",
    "        self.viewer.window.add_dock_widget(file_widget)\n",
    "        self.add_dff_widget()\n",
    "        self.cell = self.cell_ids.value\n",
    "        self.cell_ids.changed.connect(self.plot_cell)\n",
    "        self.select_roi.events.highlight.connect(self.roi_selected)\n",
    "        \n",
    "        \n",
    "        \n",
    "        \n",
    "        \n",
    "        \n",
    "        \n",
    "        \"\"\"push_button = PushButton(label = \"Save Labels\")\n",
    "        start_button = PushButton(label = \"First keypoint\")\n",
    "        end_button = PushButton(label = \"Last keypoint\")\n",
    "\n",
    "        \n",
    "        self.ind_spinbox = SpinBox(label = \"Individual Number\", tooltip = \"Change individual\")\n",
    "        label_txt_picker = FileEdit(value='./Select a labeled txt file', tooltip = \"Select labeled txt file\")\n",
    "        label_h5_picker = FileEdit(value='./Select a labeled h5 file', tooltip = \"Select labeled h5 file\")\n",
    "        h5_picker = FileEdit(value='./Select a DLC h5 file', tooltip = \"Select h5 file\")\n",
    "        vid_picker = FileEdit(value='./Select the corresponding raw video', tooltip = \"Select corresponding raw video\")\n",
    "        file_widget = Container(widgets=[label_h5_picker, h5_picker, vid_picker, label_txt_picker])\n",
    "        label_widget = Container(widgets=[self.label_menu])\n",
    "        class_widget = Container(widgets=[self.ind_spinbox, self.spinbox, push_button, start_button, end_button])\n",
    "        # add individual number spinbox (set limits based on number of indivduals)\n",
    "        # each ind should have a dictionary containing sub behaviour dictionaries storing coords and label\n",
    "\n",
    "        self.viewer.window.add_dock_widget(file_widget)\n",
    "        self.viewer.window.add_dock_widget(label_widget)\n",
    "        self.viewer.window.add_dock_widget(class_widget)\n",
    "\n",
    "        # add file widget for h5 and video\n",
    "        self.labeled_txt = label_txt_picker.value\n",
    "        self.labeled_h5 = label_h5_picker.value\n",
    "        self.h5_file = h5_picker.value\n",
    "        self.video_file = vid_picker.value\"\"\"\n",
    "        \n",
    "    def load_image(self):\n",
    "        \"\"\"Load image\"\"\"\n",
    "        if self.volume_subset.shape[0] > 0:\n",
    "            print(\"loading dask images\")\n",
    "            self.im_subset.data = self.im[:, self.first_vol:self.end_vol ].compute()\n",
    "            print(\"images loaded\")\n",
    "            \n",
    "        else:\n",
    "            print(\"no volumes\")\n",
    "        pass\n",
    "    \n",
    "    def load_volume_df(self, path):\n",
    "        \"\"\"Load pandas dataframe containing all information about volume\"\"\"\n",
    "        print(\"loading volume_df\")\n",
    "        self.volume_df = pd.read_hdf(path)\n",
    "        \n",
    "    def load_coms_df(self, path):\n",
    "        print(\"loading coms_df\")\n",
    "        self.coms_df = pd.read_hdf(path)\n",
    "        \n",
    "    \n",
    "    def load_con_df(self, path):\n",
    "        print(\"loading con_df\")\n",
    "        self.con_df = pd.read_hdf(path)\n",
    "        self.plot_all_contours()\n",
    "        \n",
    "    def load_dff_df(self, path):\n",
    "        \"\"\"Load all dff data\"\"\"\n",
    "        print(\"loading dff_df\")\n",
    "        self.dff_tidy = pd.read_hdf(path, \"df\")\n",
    "    \n",
    "    def lazy_load_images(self):\n",
    "        \n",
    "        print(\"loading images\")\n",
    "        # load all images as one dask array - dask.array.stack(data = [],  axis = 0)\n",
    "        #files = os.listdir(self.denoised_dir)\n",
    "        #ims = [os.path.join(self.denoised_dir,file) for file in files if '16bit' in file]\n",
    "        \n",
    "        #da_ims = []\n",
    "\n",
    "        #for im in ims:\n",
    "        #    da_im = imread.imread(im, nframes = 1)\n",
    "        #    da_ims.append(da_im)\n",
    "        self.im  = da.from_zarr(os.path.join(self.denoised_dir, \"8bit.zarr\"), chunks= (5, 1000, -1, -1))\n",
    "        \n",
    "        #self.im = da.stack(da_ims)\n",
    "        \n",
    "        print(\"loading finished\")\n",
    "        \n",
    "    \n",
    "    def stim_changed(self, event):\n",
    "        print(self.volume_df.trial.unique())\n",
    "        self.stim = event\n",
    "        self.stim_subset  = self.volume_df[self.volume_df.stim == self.stim]\n",
    "        self.update_menu_choices()\n",
    "        self.load_subset()\n",
    "        print(event)\n",
    "        \n",
    "    def load_subset(self):\n",
    "        self.get_volume_subset()\n",
    "        if self.volume_subset.shape[0] > 0:\n",
    "            self.load_image()\n",
    "            self.plot_cell(self.cell)\n",
    "            self.label_stim()\n",
    "            \n",
    "        \n",
    "        \n",
    "    def update_menu_choices(self):\n",
    "        trials = self.stim_subset.trial.dropna().unique().tolist()\n",
    "        angles = self.stim_subset.angle.dropna().unique().tolist()\n",
    "        velocities = self.stim_subset.velocity.dropna().unique().tolist()\n",
    "        \n",
    "        self.angle = angles[0]\n",
    "        self.velocity = velocities[0]\n",
    "        self.trial = trials[0]\n",
    "        \n",
    "        # initiates change loop\n",
    "        self.trial_menu.choices = trials\n",
    "        self.angle_menu.choices = angles\n",
    "        self.velocity_menu.choices = velocities\n",
    "        \n",
    "        \n",
    "        print(self.angle, self.velocity, self.trial)\n",
    "        # update choices of trial, angle, velocity\n",
    "        \n",
    "        \n",
    "    def trial_changed(self, event):\n",
    "        self.trial = event\n",
    "        self.load_subset()\n",
    "        print(\"new trial {}\".format(event))\n",
    "        \n",
    "    def angle_changed(self, event):\n",
    "        self.angle = event\n",
    "        self.load_subset()\n",
    "        \n",
    "        print(\"new angle {}\".format(event))\n",
    "        \n",
    "    def velocity_changed(self, event):\n",
    "        self.velocity = event\n",
    "        self.load_subset()\n",
    "        print(\"new velocity {}\".format(event))\n",
    "        \n",
    "    def volume_df_picker_changed(self, event):\n",
    "        print(event)\n",
    "        \n",
    "        try:\n",
    "            self.volume_df_path = event\n",
    "        except:\n",
    "            self.volume_df_path = event.value\n",
    "        \n",
    "        \n",
    "        # get denoised dir\n",
    "        self.denoised_dir = os.path.dirname(self.volume_df_path)\n",
    "        \n",
    "        # load all dataframes\n",
    "        \n",
    "        self.load_volume_df(self.volume_df_path)\n",
    "        self.load_coms_df(os.path.join(self.denoised_dir, \"all_neuron_centers.h5\"))\n",
    "        self.load_con_df(os.path.join(self.denoised_dir, \"all_neuron_contours.h5\"))\n",
    "        #self.load_dff_df(os.path.join(self.denoised_dir, \"dff.h5\"))\n",
    "        self.lazy_load_images()\n",
    "        \n",
    "        self.stim_changed(self.stim_menu.value)\n",
    "        \n",
    "        \n",
    "    def get_volume_subset(self):\n",
    "        print(self.stim, self.angle, self.velocity, self.trial)\n",
    "        stim_filter = self.volume_df.stim == self.stim\n",
    "        angle_filter = self.volume_df.angle == self.angle\n",
    "        velocity_filter = self.volume_df.velocity == self.velocity\n",
    "        trial_filter = self.volume_df.trial == self.trial\n",
    "        \n",
    "        self.volume_subset = self.volume_df[(stim_filter) & (angle_filter) & ( velocity_filter) & (trial_filter)]\n",
    "        \n",
    "        if self.volume_subset.shape[0] > 0:\n",
    "         # 4 seconds before\n",
    "            vols_before = int(4 * self.fr)\n",
    "            \n",
    "            self.cond_start  = self.volume_subset.nVol.iloc[0] \n",
    "            self.cond_end = self.volume_subset.nVol.iloc[-1] \n",
    "            self.first_vol = self.cond_start - vols_before\n",
    "            self.end_vol = self.cond_end + vols_before\n",
    "            self.vols = np.arange(self.first_vol, self.end_vol)\n",
    "            \n",
    "    def add_dff_widget(self):\n",
    "        \n",
    "        self.viewer1d = napari_plot.ViewerModel1D()\n",
    "        widget = QtViewer(self.viewer1d)\n",
    "        self.viewer.window.add_dock_widget(widget, area=\"bottom\", name=\"Line Widget\")\n",
    "        self.viewer1d.axis.x_label = \"Time\"\n",
    "        self.viewer1d.axis.y_label = \"DeltaF/F\"\n",
    "        self.viewer1d.reset_view()\n",
    "        \n",
    "    def clear_plot(self):\n",
    "        self.viewer1d.clear_canvas()\n",
    "        \n",
    "        \n",
    "    def plot_cell(self, event):\n",
    "        if self.stim != None:\n",
    "            self.clear_plot()\n",
    "            # define cell event\n",
    "            # get dff info for cell\n",
    "            # get contour of cell\n",
    "            self.cell = event\n",
    "\n",
    "            stim_filter = self.dff_tidy.stim == self.stim\n",
    "            angle_filter = self.dff_tidy.angle == self.angle\n",
    "            velocity_filter = self.dff_tidy.velocity == self.velocity\n",
    "            trial_filter = self.dff_tidy.trial == self.trial\n",
    "            cell_filter = self.dff_tidy.cell_id == self.cell\n",
    "\n",
    "\n",
    "            self.dff_subset  = self.dff_tidy[(stim_filter) & (angle_filter) & (velocity_filter) & (cell_filter)]\n",
    "\n",
    "            # plot every trial but highlight current one with thicker line\n",
    "\n",
    "            for trial in self.dff_subset.trial.unique():\n",
    "                trial_subset = self.dff_subset[self.dff_subset.trial == trial]\n",
    "                trial_start = trial_subset.nVol.iloc[0]\n",
    "                trial_end = trial_subset.nVol.iloc[-1]\n",
    "                vols_before = int(4 * self.fr)\n",
    "                first_vol = trial_start - vols_before\n",
    "                last_vol = trial_end + vols_before\n",
    "                vols = np.arange(first_vol, last_vol)\n",
    "                vol_filter = self.dff_tidy.nVol.isin(vols)\n",
    "\n",
    "                plotting_subset = self.dff_tidy[cell_filter & vol_filter]\n",
    "                t = np.arange(0, plotting_subset.shape[0]/self.fr, 1/self.fr)\n",
    "\n",
    "                if trial == self.trial:\n",
    "\n",
    "                    self.viewer1d.add_line(np.c_[t, plotting_subset.dff.to_numpy()], color = \"magenta\")\n",
    "                    regions = [\n",
    "                            ([t[trial_start-first_vol], t[trial_end-first_vol]], \"vertical\"),\n",
    "                        ]\n",
    "\n",
    "                    layer = neuroviewer.viewer1d.add_region(\n",
    "                            regions,\n",
    "                            color=[\"green\"],\n",
    "                            opacity = 0.4,\n",
    "                            name = \"Stim\",\n",
    "                        )\n",
    "\n",
    "                else:\n",
    "                    self.viewer1d.add_line(np.c_[t, plotting_subset.dff.to_numpy()], name=\"trial {}\".format(trial), color=\"gray\")\n",
    "\n",
    "\n",
    "\n",
    "                self.viewer1d.reset_view()\n",
    "            \n",
    "        \n",
    "    def label_stim(self):\n",
    "        start = self.cond_start - self.first_vol\n",
    "        end = self.cond_end - self.first_vol\n",
    "        stim_duration = end - start\n",
    "\n",
    "        nframes = stim_duration\n",
    "        centre_rs = np.tile(np.array([0, 30, 30]), (4, 1))\n",
    "        centres = np.stack([centre_rs] * nframes)\n",
    "        frame_pos = np.tile(np.arange(start, end).T, (4, 1)).T\n",
    "        centres[:, :, 0] = frame_pos\n",
    "        add_array = np.array([[0, -10, -10],\n",
    "                                      [0, -10, 10],\n",
    "                                      [0, 10, 10],\n",
    "                                      [0, 10, -10]])\n",
    "\n",
    "        #define boxes by adding to centre_rs\n",
    "        boxes = centres + add_array.reshape(-1, *add_array.shape)\n",
    "        labels = [\"stim\"] * stim_duration\n",
    "        properties = {\n",
    "            'label': labels,\n",
    "\n",
    "        }\n",
    "\n",
    "        # specify the display parameters for the text\n",
    "        text_params = {\n",
    "            'text': 'label: {label}',\n",
    "            'size': 12,\n",
    "            'color': 'green',\n",
    "            'anchor': 'upper_left',\n",
    "            'translation': [-3, 0]}\n",
    "\n",
    "        self.stim_icon.data = boxes\n",
    "        self.stim_icon.properties = properties\n",
    "        self.stim_icon.text = text_params\n",
    "        \n",
    "    def plot_all_contours(self): # slow\n",
    "        \n",
    "        z_index = [] \n",
    "        shapes= []\n",
    "        for cell in self.con_df.cell_id.unique():\n",
    "            subset = self.con_df[self.con_df.cell_id == cell].dropna()\n",
    "            contours = subset[[\"z\",\"cell_id\", \"y\", \"x\"]]\n",
    "\n",
    "            contours.cell_id = np.zeros(contours.shape[0])\n",
    "\n",
    "\n",
    "            z_index.append(subset.iloc[0, 2])\n",
    "            shapes.append(contours.to_numpy())\n",
    "            \n",
    "        \n",
    "        self.select_roi.selected_data = set(range(self.select_roi.nshapes))\n",
    "        self.select_roi.remove_selected()\n",
    "\n",
    "        self.select_roi.add(shapes,shape_type = \"polygon\", edge_width=0.4,\n",
    "                                  edge_color='white', face_color='transparent')\n",
    "        \n",
    "    \n",
    "    def roi_selected(self, event):\n",
    "        self.cell_ids.value = list(self.select_roi.selected_data)[0]\n",
    "    \n",
    "\n",
    "        \n",
    "        \n",
    "        \"\"\"\n",
    "        contours = self.con_df[self.con_df.cell_id == self.cell].dropna()\n",
    "        contours = contours[[\"z\",\"cell_id\", \"y\", \"x\"]]\n",
    "\n",
    "        contours.cell_id = np.zeros(contours.shape[0])\n",
    "        cell_roi = contours.to_numpy()\n",
    "        start = self.first_vol\n",
    "        end = self.end_vol\n",
    "        nframes = end - start\n",
    "\n",
    "        cell_rois = np.stack([cell_roi] * nframes)\n",
    "        t_index = cell_rois[:, :, 1]\n",
    "        new_t_index = np.tile(np.arange(t_index.shape[0]), (t_index.shape[1], 1)).T\n",
    "        cell_rois[:, :, 1] = new_t_index\n",
    "        self.select_roi.selected_data = set(range(neuroviewer.select_roi.nshapes))\n",
    "        self.select_roi.remove_selected()\n",
    "\n",
    "        self.select_roi.add(cell_rois,shape_type = \"polygon\", edge_width=0.2,\n",
    "                                  edge_color='white', face_color='transparent')\"\"\"\n",
    "\n",
    "\n",
    "        \n",
    "        \n",
    "            \n",
    "\n",
    "    \n",
    "        \n",
    "        \n",
    "    \n",
    "        \n",
    "    "
   ]
  },
  {
   "cell_type": "code",
   "execution_count": 156,
   "id": "a8b63b3e-dec7-49d1-92d5-31b2e0bf1219",
   "metadata": {},
   "outputs": [
    {
     "name": "stdout",
     "output_type": "stream",
     "text": [
      "Z:\\Pierce\\IOMultiSensory\\20220427\\fish1\\denoised\\volume_df.h5\n",
      "loading volume_df\n",
      "loading coms_df\n",
      "loading con_df\n"
     ]
    }
   ],
   "source": [
    "neuroviewer = neuro_viewer()\n",
    "# to do - extend window to 4 seconds before and after\n",
    "# plot dff in bit below"
   ]
  },
  {
   "cell_type": "code",
   "execution_count": 157,
   "id": "432cdaca-b57a-425c-b9b8-e1be1d18851e",
   "metadata": {},
   "outputs": [
    {
     "name": "stdout",
     "output_type": "stream",
     "text": [
      "loading images\n",
      "loading finished\n",
      "[nan  0.  1.  2.  3.  4.  5.  6.  7.  8.  9. 10. 11. 12. 13. 14.]\n",
      "visual 225.0 0.0 0.0\n",
      "new trial 0.0\n",
      "visual 225.0 0.0 0.0\n",
      "new angle 225.0\n",
      "visual 225.0 0.0 0.0\n",
      "new velocity 0.0\n",
      "225.0 0.0 0.0\n",
      "visual 225.0 0.0 0.0\n",
      "visual\n",
      "loading dff_df\n",
      "visual 225.0 1.0 0.0\n",
      "loading dask images\n",
      "images loaded\n",
      "new velocity 1.0\n"
     ]
    }
   ],
   "source": [
    "neuroviewer.load_dff_df(r\"C:\\Users\\pierc\\Desktop\\dff.h5\")"
   ]
  },
  {
   "cell_type": "code",
   "execution_count": null,
   "id": "8509c22c-1a21-4db0-b46e-3d1cab4c4dad",
   "metadata": {},
   "outputs": [],
   "source": [
    "neuroviewer.plot_cell(0)"
   ]
  },
  {
   "cell_type": "code",
   "execution_count": 58,
   "id": "c3626865-aa57-4a79-9c90-b43f5dd72a26",
   "metadata": {},
   "outputs": [
    {
     "name": "stdout",
     "output_type": "stream",
     "text": [
      "loading images\n",
      "loading finished\n",
      "visual 0.0 1.0 0.0\n",
      "loading dask images\n",
      "images loaded\n",
      "new angle 0.0\n"
     ]
    }
   ],
   "source": [
    "neuroviewer.lazy_load_images()"
   ]
  },
  {
   "cell_type": "code",
   "execution_count": 165,
   "id": "50bfce6e-ad43-4557-bb0b-72b68da0ba6d",
   "metadata": {},
   "outputs": [
    {
     "ename": "AttributeError",
     "evalue": "'Shapes' object has no attribute 'highlighted'",
     "output_type": "error",
     "traceback": [
      "\u001b[1;31m---------------------------------------------------------------------------\u001b[0m",
      "\u001b[1;31mAttributeError\u001b[0m                            Traceback (most recent call last)",
      "\u001b[1;32m<ipython-input-165-cd13f50a3866>\u001b[0m in \u001b[0;36m<module>\u001b[1;34m\u001b[0m\n\u001b[1;32m----> 1\u001b[1;33m \u001b[0mneuroviewer\u001b[0m\u001b[1;33m.\u001b[0m\u001b[0mselect_roi\u001b[0m\u001b[1;33m.\u001b[0m\u001b[0mhighlighted\u001b[0m\u001b[1;33m\u001b[0m\u001b[1;33m\u001b[0m\u001b[0m\n\u001b[0m",
      "\u001b[1;31mAttributeError\u001b[0m: 'Shapes' object has no attribute 'highlighted'"
     ]
    },
    {
     "name": "stdout",
     "output_type": "stream",
     "text": [
      "{42}\n",
      "{42}\n",
      "{42}\n",
      "{42}\n",
      "{42}\n",
      "{38}\n",
      "{38}\n",
      "{38}\n",
      "{38}\n",
      "{38}\n",
      "{31}\n",
      "{31}\n",
      "{31}\n",
      "{0}\n",
      "{0}\n",
      "{0}\n",
      "{8}\n",
      "{8}\n",
      "{8}\n",
      "{8}\n",
      "{3}\n",
      "{3}\n",
      "{3}\n",
      "{3}\n",
      "{7}\n",
      "{7}\n",
      "{7}\n",
      "{7}\n",
      "{7}\n",
      "{87}\n",
      "{87}\n",
      "{87}\n",
      "{87}\n"
     ]
    }
   ],
   "source": [
    "neuroviewer.select_roi.highlighted"
   ]
  },
  {
   "cell_type": "code",
   "execution_count": 163,
   "id": "b41c3b40-2996-43f4-abb1-53379bfd47da",
   "metadata": {},
   "outputs": [
    {
     "data": {
      "text/plain": [
       "<function __main__.highlight(event)>"
      ]
     },
     "execution_count": 163,
     "metadata": {},
     "output_type": "execute_result"
    },
    {
     "name": "stdout",
     "output_type": "stream",
     "text": [
      "{77}\n",
      "{77}\n",
      "{77}\n",
      "{77}\n",
      "{77}\n",
      "{77}\n",
      "{77}\n",
      "{106}\n",
      "{106}\n",
      "{106}\n",
      "{106}\n",
      "{106}\n",
      "{106}\n",
      "{106}\n",
      "{106}\n",
      "{106}\n",
      "{106}\n",
      "{106}\n",
      "{106}\n",
      "{106}\n",
      "{106}\n",
      "{106}\n",
      "{106}\n",
      "{106}\n",
      "{106}\n",
      "{106}\n",
      "{106}\n",
      "{100}\n",
      "{100}\n",
      "{100}\n",
      "{100}\n",
      "{49}\n",
      "{49}\n",
      "{49}\n",
      "{49}\n",
      "{49}\n",
      "{49}\n",
      "{48}\n",
      "{48}\n",
      "{48}\n",
      "{105}\n",
      "{105}\n",
      "{105}\n",
      "{50}\n",
      "{50}\n",
      "{50}\n",
      "{50}\n",
      "{42}\n",
      "{42}\n",
      "{42}\n",
      "{42}\n",
      "{42}\n",
      "{42}\n",
      "{42}\n",
      "{42}\n",
      "{42}\n",
      "{42}\n",
      "{42}\n",
      "{42}\n",
      "{42}\n"
     ]
    }
   ],
   "source": [
    "neuroviewer.select_roi.events.highlight.connect(highlight)"
   ]
  },
  {
   "cell_type": "code",
   "execution_count": 162,
   "id": "b46f821c-1e6e-4e4a-bd4e-7c03008e6e13",
   "metadata": {},
   "outputs": [],
   "source": [
    "def highlight(event):\n",
    "    neuroviewer.cell_ids.value = list(neuroviewer.select_roi.selected_data)[0]\n",
    "    print(neuroviewer.select_roi.selected_data)\n",
    "    neuroviewer.select_roi.current_edge_color = \"green\"\n",
    "    neuroviewer.select_roi.current_edge_width = 1\n"
   ]
  },
  {
   "cell_type": "code",
   "execution_count": 148,
   "id": "de0977ce-8b6d-4d4b-930e-6af5306ead27",
   "metadata": {},
   "outputs": [
    {
     "name": "stdout",
     "output_type": "stream",
     "text": [
      "green\n",
      "Shapes [1]\n",
      "Event\n",
      "green\n",
      "Shapes [1]\n",
      "Event\n",
      "green\n",
      "Shapes [1]\n",
      "Event\n",
      "green\n",
      "Shapes [1]\n",
      "Event\n",
      "green\n",
      "Shapes [1]\n",
      "Event\n",
      "green\n",
      "Shapes [1]\n",
      "Event\n",
      "green\n",
      "Shapes [1]\n",
      "Event\n",
      "green\n",
      "Shapes [1]\n",
      "Event\n",
      "green\n",
      "Shapes [1]\n",
      "Event\n",
      "green\n",
      "Shapes [1]\n",
      "Event\n",
      "green\n",
      "Shapes [1]\n",
      "Event\n",
      "green\n",
      "Shapes [1]\n",
      "Event\n",
      "green\n",
      "Shapes [1]\n",
      "Event\n",
      "green\n",
      "Shapes [1]\n",
      "Event\n",
      "green\n",
      "Shapes [1]\n",
      "Event\n",
      "green\n",
      "Shapes [1]\n",
      "Event\n"
     ]
    }
   ],
   "source": [
    "neuroviewer.cell_ids.value = list(neuroviewer.select_roi.selected_data)[0]"
   ]
  },
  {
   "cell_type": "code",
   "execution_count": null,
   "id": "345c0653-e79b-47d4-91dd-fcbc4aafb116",
   "metadata": {},
   "outputs": [],
   "source": [
    "%%timeit\n",
    "neuroviewer.im[:, 100:120].compute()"
   ]
  },
  {
   "cell_type": "code",
   "execution_count": null,
   "id": "a4c150fa-b3c0-443e-8372-9aff24e64416",
   "metadata": {},
   "outputs": [],
   "source": [
    "files = os.listdir(neuroviewer.denoised_dir)\n",
    "ims = [os.path.join(neuroviewer.denoised_dir,file) for file in files if '16bit' in file]\n",
    "\n",
    "da_ims = []\n",
    "\n",
    "for im in ims:\n",
    "    da_im = imread.imread(im)\n",
    "    da_ims.append(da_im)\n",
    "\n",
    "neuroviewer.im = da.stack(da_ims)"
   ]
  },
  {
   "cell_type": "code",
   "execution_count": 44,
   "id": "ba1af7ff-0ac1-4104-ab05-dd8195ea6dfe",
   "metadata": {},
   "outputs": [],
   "source": [
    "da_im = da.from_zarr(os.path.join(neuroviewer.denoised_dir, \"8bit.zarr\"), chunks= (5, 1000, -1, -1))"
   ]
  },
  {
   "cell_type": "code",
   "execution_count": 45,
   "id": "7b0f0eb5-a3ee-4fee-9343-cb5e81656771",
   "metadata": {},
   "outputs": [
    {
     "data": {
      "text/html": [
       "<table>\n",
       "    <tr>\n",
       "        <td>\n",
       "            <table>\n",
       "                <thead>\n",
       "                    <tr>\n",
       "                        <td> </td>\n",
       "                        <th> Array </th>\n",
       "                        <th> Chunk </th>\n",
       "                    </tr>\n",
       "                </thead>\n",
       "                <tbody>\n",
       "                    \n",
       "                    <tr>\n",
       "                        <th> Bytes </th>\n",
       "                        <td> 10.80 GiB </td>\n",
       "                        <td> 815.39 MiB </td>\n",
       "                    </tr>\n",
       "                    \n",
       "                    <tr>\n",
       "                        <th> Shape </th>\n",
       "                        <td> (5, 13560, 380, 450) </td>\n",
       "                        <td> (5, 1000, 380, 450) </td>\n",
       "                    </tr>\n",
       "                    <tr>\n",
       "                        <th> Count </th>\n",
       "                        <td> 15 Tasks </td>\n",
       "                        <td> 14 Chunks </td>\n",
       "                    </tr>\n",
       "                    <tr>\n",
       "                    <th> Type </th>\n",
       "                    <td> uint8 </td>\n",
       "                    <td> numpy.ndarray </td>\n",
       "                    </tr>\n",
       "                </tbody>\n",
       "            </table>\n",
       "        </td>\n",
       "        <td>\n",
       "        <svg width=\"342\" height=\"151\" style=\"stroke:rgb(0,0,0);stroke-width:1\" >\n",
       "\n",
       "  <!-- Horizontal lines -->\n",
       "  <line x1=\"0\" y1=\"0\" x2=\"25\" y2=\"0\" style=\"stroke-width:2\" />\n",
       "  <line x1=\"0\" y1=\"25\" x2=\"25\" y2=\"25\" style=\"stroke-width:2\" />\n",
       "\n",
       "  <!-- Vertical lines -->\n",
       "  <line x1=\"0\" y1=\"0\" x2=\"0\" y2=\"25\" style=\"stroke-width:2\" />\n",
       "  <line x1=\"25\" y1=\"0\" x2=\"25\" y2=\"25\" style=\"stroke-width:2\" />\n",
       "\n",
       "  <!-- Colored Rectangle -->\n",
       "  <polygon points=\"0.0,0.0 25.412616514582485,0.0 25.412616514582485,25.412616514582485 0.0,25.412616514582485\" style=\"fill:#ECB172A0;stroke-width:0\"/>\n",
       "\n",
       "  <!-- Text -->\n",
       "  <text x=\"12.706308\" y=\"45.412617\" font-size=\"1.0rem\" font-weight=\"100\" text-anchor=\"middle\" >5</text>\n",
       "  <text x=\"45.412617\" y=\"12.706308\" font-size=\"1.0rem\" font-weight=\"100\" text-anchor=\"middle\" transform=\"rotate(0,45.412617,12.706308)\">1</text>\n",
       "\n",
       "\n",
       "  <!-- Horizontal lines -->\n",
       "  <line x1=\"95\" y1=\"0\" x2=\"165\" y2=\"70\" style=\"stroke-width:2\" />\n",
       "  <line x1=\"95\" y1=\"30\" x2=\"165\" y2=\"101\" style=\"stroke-width:2\" />\n",
       "\n",
       "  <!-- Vertical lines -->\n",
       "  <line x1=\"95\" y1=\"0\" x2=\"95\" y2=\"30\" style=\"stroke-width:2\" />\n",
       "  <line x1=\"100\" y1=\"5\" x2=\"100\" y2=\"36\" />\n",
       "  <line x1=\"105\" y1=\"10\" x2=\"105\" y2=\"41\" />\n",
       "  <line x1=\"110\" y1=\"15\" x2=\"110\" y2=\"46\" />\n",
       "  <line x1=\"115\" y1=\"20\" x2=\"115\" y2=\"51\" />\n",
       "  <line x1=\"121\" y1=\"26\" x2=\"121\" y2=\"57\" />\n",
       "  <line x1=\"126\" y1=\"31\" x2=\"126\" y2=\"62\" />\n",
       "  <line x1=\"131\" y1=\"36\" x2=\"131\" y2=\"67\" />\n",
       "  <line x1=\"136\" y1=\"41\" x2=\"136\" y2=\"72\" />\n",
       "  <line x1=\"141\" y1=\"46\" x2=\"141\" y2=\"77\" />\n",
       "  <line x1=\"147\" y1=\"52\" x2=\"147\" y2=\"83\" />\n",
       "  <line x1=\"152\" y1=\"57\" x2=\"152\" y2=\"88\" />\n",
       "  <line x1=\"157\" y1=\"62\" x2=\"157\" y2=\"93\" />\n",
       "  <line x1=\"162\" y1=\"67\" x2=\"162\" y2=\"98\" />\n",
       "  <line x1=\"165\" y1=\"70\" x2=\"165\" y2=\"101\" style=\"stroke-width:2\" />\n",
       "\n",
       "  <!-- Colored Rectangle -->\n",
       "  <polygon points=\"95.0,0.0 165.58823529411765,70.58823529411765 165.58823529411765,101.57233795734983 95.0,30.984102663232175\" style=\"fill:#ECB172A0;stroke-width:0\"/>\n",
       "\n",
       "  <!-- Horizontal lines -->\n",
       "  <line x1=\"95\" y1=\"0\" x2=\"126\" y2=\"0\" style=\"stroke-width:2\" />\n",
       "  <line x1=\"100\" y1=\"5\" x2=\"132\" y2=\"5\" />\n",
       "  <line x1=\"105\" y1=\"10\" x2=\"137\" y2=\"10\" />\n",
       "  <line x1=\"110\" y1=\"15\" x2=\"142\" y2=\"15\" />\n",
       "  <line x1=\"115\" y1=\"20\" x2=\"147\" y2=\"20\" />\n",
       "  <line x1=\"121\" y1=\"26\" x2=\"153\" y2=\"26\" />\n",
       "  <line x1=\"126\" y1=\"31\" x2=\"158\" y2=\"31\" />\n",
       "  <line x1=\"131\" y1=\"36\" x2=\"163\" y2=\"36\" />\n",
       "  <line x1=\"136\" y1=\"41\" x2=\"168\" y2=\"41\" />\n",
       "  <line x1=\"141\" y1=\"46\" x2=\"173\" y2=\"46\" />\n",
       "  <line x1=\"147\" y1=\"52\" x2=\"179\" y2=\"52\" />\n",
       "  <line x1=\"152\" y1=\"57\" x2=\"184\" y2=\"57\" />\n",
       "  <line x1=\"157\" y1=\"62\" x2=\"189\" y2=\"62\" />\n",
       "  <line x1=\"162\" y1=\"67\" x2=\"194\" y2=\"67\" />\n",
       "  <line x1=\"165\" y1=\"70\" x2=\"197\" y2=\"70\" style=\"stroke-width:2\" />\n",
       "\n",
       "  <!-- Vertical lines -->\n",
       "  <line x1=\"95\" y1=\"0\" x2=\"165\" y2=\"70\" style=\"stroke-width:2\" />\n",
       "  <line x1=\"126\" y1=\"0\" x2=\"197\" y2=\"70\" style=\"stroke-width:2\" />\n",
       "\n",
       "  <!-- Colored Rectangle -->\n",
       "  <polygon points=\"95.0,0.0 126.99754188703363,0.0 197.5857771811513,70.58823529411765 165.58823529411765,70.58823529411765\" style=\"fill:#ECB172A0;stroke-width:0\"/>\n",
       "\n",
       "  <!-- Horizontal lines -->\n",
       "  <line x1=\"165\" y1=\"70\" x2=\"197\" y2=\"70\" style=\"stroke-width:2\" />\n",
       "  <line x1=\"165\" y1=\"101\" x2=\"197\" y2=\"101\" style=\"stroke-width:2\" />\n",
       "\n",
       "  <!-- Vertical lines -->\n",
       "  <line x1=\"165\" y1=\"70\" x2=\"165\" y2=\"101\" style=\"stroke-width:2\" />\n",
       "  <line x1=\"197\" y1=\"70\" x2=\"197\" y2=\"101\" style=\"stroke-width:2\" />\n",
       "\n",
       "  <!-- Colored Rectangle -->\n",
       "  <polygon points=\"165.58823529411765,70.58823529411765 197.5857771811513,70.58823529411765 197.5857771811513,101.57233795734983 165.58823529411765,101.57233795734983\" style=\"fill:#ECB172A0;stroke-width:0\"/>\n",
       "\n",
       "  <!-- Text -->\n",
       "  <text x=\"181.587006\" y=\"121.572338\" font-size=\"1.0rem\" font-weight=\"100\" text-anchor=\"middle\" >450</text>\n",
       "  <text x=\"217.585777\" y=\"86.080287\" font-size=\"1.0rem\" font-weight=\"100\" text-anchor=\"middle\" transform=\"rotate(-90,217.585777,86.080287)\">380</text>\n",
       "  <text x=\"120.294118\" y=\"86.278220\" font-size=\"1.0rem\" font-weight=\"100\" text-anchor=\"middle\" transform=\"rotate(45,120.294118,86.278220)\">13560</text>\n",
       "</svg>\n",
       "        </td>\n",
       "    </tr>\n",
       "</table>"
      ],
      "text/plain": [
       "dask.array<from-zarr, shape=(5, 13560, 380, 450), dtype=uint8, chunksize=(5, 1000, 380, 450), chunktype=numpy.ndarray>"
      ]
     },
     "execution_count": 45,
     "metadata": {},
     "output_type": "execute_result"
    }
   ],
   "source": [
    "da_im"
   ]
  },
  {
   "cell_type": "code",
   "execution_count": 50,
   "id": "e48ef940-0e5a-4a9f-811b-28280facb392",
   "metadata": {},
   "outputs": [
    {
     "name": "stdout",
     "output_type": "stream",
     "text": [
      "visual 225.0 10.0 0.0\n",
      "loading dask images\n"
     ]
    }
   ],
   "source": [
    "neuroviewer.im"
   ]
  },
  {
   "cell_type": "code",
   "execution_count": 7,
   "id": "c4afb4ef-0040-4cfd-ac0e-e9d8ddf44a62",
   "metadata": {},
   "outputs": [
    {
     "data": {
      "text/plain": [
       "[0.0, 255]"
      ]
     },
     "execution_count": 7,
     "metadata": {},
     "output_type": "execute_result"
    },
    {
     "name": "stdout",
     "output_type": "stream",
     "text": [
      "visual 225.0 1.0 0.0\n",
      "loading dask images\n",
      "new velocity 1.0\n",
      "visual 225.0 5.0 0.0\n",
      "loading dask images\n",
      "new velocity 5.0\n",
      "visual 225.0 1.0 0.0\n",
      "loading dask images\n",
      "new velocity 1.0\n",
      "visual 225.0 10.0 0.0\n",
      "loading dask images\n",
      "new velocity 10.0\n",
      "visual 0.0 10.0 0.0\n",
      "loading dask images\n",
      "new angle 0.0\n"
     ]
    }
   ],
   "source": [
    "neuroviewer.im_subset.contrast_limits"
   ]
  },
  {
   "cell_type": "code",
   "execution_count": 10,
   "id": "5fe8f8d2-b095-40de-923e-b54f1e9eb7ca",
   "metadata": {},
   "outputs": [],
   "source": [
    "neuroviewer.im_subset.data = neuroviewer.im[:, neuroviewer.first_vol: neuroviewer.end_vol]"
   ]
  },
  {
   "cell_type": "code",
   "execution_count": 26,
   "id": "dcf608ff-bd08-40ce-bf91-cdbbb27b04ce",
   "metadata": {},
   "outputs": [],
   "source": [
    "import time"
   ]
  },
  {
   "cell_type": "code",
   "execution_count": 42,
   "id": "cccac042-8d0d-469b-83ae-5fef385119df",
   "metadata": {},
   "outputs": [
    {
     "data": {
      "text/plain": [
       "13.433903932571411"
      ]
     },
     "execution_count": 42,
     "metadata": {},
     "output_type": "execute_result"
    }
   ],
   "source": [
    "start = time.time()\n",
    "da_im[:, neuroviewer.first_vol : neuroviewer.end_vol ].compute()\n",
    "end = time.time()\n",
    "end - start"
   ]
  },
  {
   "cell_type": "code",
   "execution_count": 39,
   "id": "c4d1a713-f8ef-421b-857a-51fab63d1ff2",
   "metadata": {},
   "outputs": [
    {
     "data": {
      "text/html": [
       "<table>\n",
       "    <tr>\n",
       "        <td>\n",
       "            <table>\n",
       "                <thead>\n",
       "                    <tr>\n",
       "                        <td> </td>\n",
       "                        <th> Array </th>\n",
       "                        <th> Chunk </th>\n",
       "                    </tr>\n",
       "                </thead>\n",
       "                <tbody>\n",
       "                    \n",
       "                    <tr>\n",
       "                        <th> Bytes </th>\n",
       "                        <td> 30.98 MiB </td>\n",
       "                        <td> 30.98 MiB </td>\n",
       "                    </tr>\n",
       "                    \n",
       "                    <tr>\n",
       "                        <th> Shape </th>\n",
       "                        <td> (5, 38, 380, 450) </td>\n",
       "                        <td> (5, 38, 380, 450) </td>\n",
       "                    </tr>\n",
       "                    <tr>\n",
       "                        <th> Count </th>\n",
       "                        <td> 16 Tasks </td>\n",
       "                        <td> 1 Chunks </td>\n",
       "                    </tr>\n",
       "                    <tr>\n",
       "                    <th> Type </th>\n",
       "                    <td> uint8 </td>\n",
       "                    <td> numpy.ndarray </td>\n",
       "                    </tr>\n",
       "                </tbody>\n",
       "            </table>\n",
       "        </td>\n",
       "        <td>\n",
       "        <svg width=\"382\" height=\"173\" style=\"stroke:rgb(0,0,0);stroke-width:1\" >\n",
       "\n",
       "  <!-- Horizontal lines -->\n",
       "  <line x1=\"0\" y1=\"0\" x2=\"25\" y2=\"0\" style=\"stroke-width:2\" />\n",
       "  <line x1=\"0\" y1=\"25\" x2=\"25\" y2=\"25\" style=\"stroke-width:2\" />\n",
       "\n",
       "  <!-- Vertical lines -->\n",
       "  <line x1=\"0\" y1=\"0\" x2=\"0\" y2=\"25\" style=\"stroke-width:2\" />\n",
       "  <line x1=\"25\" y1=\"0\" x2=\"25\" y2=\"25\" style=\"stroke-width:2\" />\n",
       "\n",
       "  <!-- Colored Rectangle -->\n",
       "  <polygon points=\"0.0,0.0 25.924160051965714,0.0 25.924160051965714,25.412616514582485 0.0,25.412616514582485\" style=\"fill:#ECB172A0;stroke-width:0\"/>\n",
       "\n",
       "  <!-- Text -->\n",
       "  <text x=\"12.962080\" y=\"45.412617\" font-size=\"1.0rem\" font-weight=\"100\" text-anchor=\"middle\" >5</text>\n",
       "  <text x=\"45.924160\" y=\"12.706308\" font-size=\"1.0rem\" font-weight=\"100\" text-anchor=\"middle\" transform=\"rotate(0,45.924160,12.706308)\">1</text>\n",
       "\n",
       "\n",
       "  <!-- Horizontal lines -->\n",
       "  <line x1=\"95\" y1=\"0\" x2=\"117\" y2=\"22\" style=\"stroke-width:2\" />\n",
       "  <line x1=\"95\" y1=\"101\" x2=\"117\" y2=\"123\" style=\"stroke-width:2\" />\n",
       "\n",
       "  <!-- Vertical lines -->\n",
       "  <line x1=\"95\" y1=\"0\" x2=\"95\" y2=\"101\" style=\"stroke-width:2\" />\n",
       "  <line x1=\"117\" y1=\"22\" x2=\"117\" y2=\"123\" style=\"stroke-width:2\" />\n",
       "\n",
       "  <!-- Colored Rectangle -->\n",
       "  <polygon points=\"95.0,0.0 117.14122341931696,22.14122341931695 117.14122341931696,123.4745567526503 95.0,101.33333333333334\" style=\"fill:#ECB172A0;stroke-width:0\"/>\n",
       "\n",
       "  <!-- Horizontal lines -->\n",
       "  <line x1=\"95\" y1=\"0\" x2=\"215\" y2=\"0\" style=\"stroke-width:2\" />\n",
       "  <line x1=\"117\" y1=\"22\" x2=\"237\" y2=\"22\" style=\"stroke-width:2\" />\n",
       "\n",
       "  <!-- Vertical lines -->\n",
       "  <line x1=\"95\" y1=\"0\" x2=\"117\" y2=\"22\" style=\"stroke-width:2\" />\n",
       "  <line x1=\"215\" y1=\"0\" x2=\"237\" y2=\"22\" style=\"stroke-width:2\" />\n",
       "\n",
       "  <!-- Colored Rectangle -->\n",
       "  <polygon points=\"95.0,0.0 215.0,0.0 237.14122341931696,22.14122341931695 117.14122341931696,22.14122341931695\" style=\"fill:#ECB172A0;stroke-width:0\"/>\n",
       "\n",
       "  <!-- Horizontal lines -->\n",
       "  <line x1=\"117\" y1=\"22\" x2=\"237\" y2=\"22\" style=\"stroke-width:2\" />\n",
       "  <line x1=\"117\" y1=\"123\" x2=\"237\" y2=\"123\" style=\"stroke-width:2\" />\n",
       "\n",
       "  <!-- Vertical lines -->\n",
       "  <line x1=\"117\" y1=\"22\" x2=\"117\" y2=\"123\" style=\"stroke-width:2\" />\n",
       "  <line x1=\"237\" y1=\"22\" x2=\"237\" y2=\"123\" style=\"stroke-width:2\" />\n",
       "\n",
       "  <!-- Colored Rectangle -->\n",
       "  <polygon points=\"117.14122341931696,22.14122341931695 237.14122341931696,22.14122341931695 237.14122341931696,123.4745567526503 117.14122341931696,123.4745567526503\" style=\"fill:#ECB172A0;stroke-width:0\"/>\n",
       "\n",
       "  <!-- Text -->\n",
       "  <text x=\"177.141223\" y=\"143.474557\" font-size=\"1.0rem\" font-weight=\"100\" text-anchor=\"middle\" >450</text>\n",
       "  <text x=\"257.141223\" y=\"72.807890\" font-size=\"1.0rem\" font-weight=\"100\" text-anchor=\"middle\" transform=\"rotate(-90,257.141223,72.807890)\">380</text>\n",
       "  <text x=\"96.070612\" y=\"132.403945\" font-size=\"1.0rem\" font-weight=\"100\" text-anchor=\"middle\" transform=\"rotate(45,96.070612,132.403945)\">38</text>\n",
       "</svg>\n",
       "        </td>\n",
       "    </tr>\n",
       "</table>"
      ],
      "text/plain": [
       "dask.array<getitem, shape=(5, 38, 380, 450), dtype=uint8, chunksize=(5, 38, 380, 450), chunktype=numpy.ndarray>"
      ]
     },
     "execution_count": 39,
     "metadata": {},
     "output_type": "execute_result"
    }
   ],
   "source": [
    "da_im[:, neuroviewer.first_vol : neuroviewer.end_vol]"
   ]
  },
  {
   "cell_type": "code",
   "execution_count": null,
   "id": "11397d17-4797-4c4a-8fd4-6964d0bd072f",
   "metadata": {},
   "outputs": [],
   "source": [
    "from matplotlib import pyplot as plt\n",
    "%matplotlib widget"
   ]
  },
  {
   "cell_type": "code",
   "execution_count": null,
   "id": "2cf2a3f4-6a6c-4f81-a7da-2eacaebe617c",
   "metadata": {},
   "outputs": [],
   "source": [
    "fig, ax = plt.subplots()\n",
    "ax.imshow(da_im[0, 0])"
   ]
  },
  {
   "cell_type": "code",
   "execution_count": null,
   "id": "a4eb7803-b87a-415f-a9a2-0a042fa8967e",
   "metadata": {},
   "outputs": [],
   "source": [
    "files = os.listdir(neuroviewer.denoised_dir)\n",
    "im_path = [os.path.join(neuroviewer.denoised_dir,file) for file in files if '16bit' in file][0]\n",
    "\n",
    "\n",
    "\n",
    "neuroviewer.im = imread.imread(im_path)\n",
    "        "
   ]
  },
  {
   "cell_type": "code",
   "execution_count": null,
   "id": "7eda83db-a682-4113-9010-9bb29164638b",
   "metadata": {},
   "outputs": [],
   "source": [
    "neuroviewer.im # file saved incorrectly - save as 16 bit instead and in big tiff format"
   ]
  },
  {
   "cell_type": "code",
   "execution_count": null,
   "id": "44b7e17a-1541-46f2-99ac-3c18ec7c973c",
   "metadata": {},
   "outputs": [],
   "source": [
    "centre_rs = np.tile(np.array([0, 30, 30]), (4, 1))\n",
    "centres = np.stack([centre_rs] * nframes)\n",
    "frame_pos = np.tile(np.arange(start, end).T, (4, 1)).T"
   ]
  },
  {
   "cell_type": "code",
   "execution_count": null,
   "id": "eecbeaaa-cf85-4964-955c-7f208a9b9c51",
   "metadata": {},
   "outputs": [],
   "source": [
    "neuroviewer.volume_subset.shape"
   ]
  },
  {
   "cell_type": "code",
   "execution_count": null,
   "id": "07ee9d52-4c08-41b1-9770-8a753f57eb7c",
   "metadata": {},
   "outputs": [],
   "source": [
    "# loop through cells get x, y contour for each #\n",
    "# add first axis for volumes\n",
    "# get z_index\n",
    "start = neuroviewer.first_vol\n",
    "end = neuroviewer.end_vol\n",
    "nframes = end - start\n",
    "\n",
    "\n",
    "z_index = [] \n",
    "shapes= []\n",
    "for cell in neuroviewer.con_df.cell_id.unique():\n",
    "    subset = neuroviewer.con_df[neuroviewer.con_df.cell_id == cell].dropna()\n",
    "    contours = subset[[\"z\",\"cell_id\", \"y\", \"x\"]]\n",
    "    \n",
    "    contours.cell_id = np.zeros(contours.shape[0])\n",
    "\n",
    "    \n",
    "    z_index.append(subset.iloc[0, 2])\n",
    "    shapes.append(contours.to_numpy())\n",
    "    "
   ]
  },
  {
   "cell_type": "code",
   "execution_count": null,
   "id": "cde3e2d8-1d90-4e7c-9caf-df08ad0ad8c4",
   "metadata": {},
   "outputs": [],
   "source": [
    "len(z_index), len(shapes)"
   ]
  },
  {
   "cell_type": "code",
   "execution_count": null,
   "id": "a8f2dd76-8875-482b-9d54-fca9f77e3528",
   "metadata": {},
   "outputs": [],
   "source": [
    "neuroviewer.viewer.add_shapes([cell_roi], shape_type='polygon', edge_width=0.2,\n",
    "                          edge_color='white', face_color='transparent', ndim = 4)"
   ]
  },
  {
   "cell_type": "code",
   "execution_count": null,
   "id": "e8b16aee-c4ab-4f27-bd56-87e1f646975d",
   "metadata": {},
   "outputs": [],
   "source": [
    "neuroviewer.select_roi = neuroviewer.viewer.layers[-1]"
   ]
  },
  {
   "cell_type": "code",
   "execution_count": null,
   "id": "17988815-4eb3-49c0-8c2f-4be12ed55b0a",
   "metadata": {},
   "outputs": [],
   "source": [
    "neuroviewer.viewer.layers[-1]"
   ]
  },
  {
   "cell_type": "code",
   "execution_count": null,
   "id": "8babd6ad-2293-43f9-8efc-3a8582c6b790",
   "metadata": {},
   "outputs": [],
   "source": []
  },
  {
   "cell_type": "code",
   "execution_count": null,
   "id": "25c7b7b4-18e0-4e7c-bfdc-31c1754c2e2f",
   "metadata": {},
   "outputs": [],
   "source": []
  },
  {
   "cell_type": "code",
   "execution_count": null,
   "id": "b389a102-666c-4086-8be7-ae175f67fc4b",
   "metadata": {},
   "outputs": [],
   "source": [
    "cell_roi"
   ]
  },
  {
   "cell_type": "code",
   "execution_count": null,
   "id": "e360a519-4d95-4219-bddd-999289e5f505",
   "metadata": {},
   "outputs": [],
   "source": [
    "\n"
   ]
  },
  {
   "cell_type": "code",
   "execution_count": null,
   "id": "21d9d3db-0e98-4661-9580-557b04701873",
   "metadata": {},
   "outputs": [],
   "source": []
  },
  {
   "cell_type": "code",
   "execution_count": null,
   "id": "35818f9d-59bd-4068-9c29-c283390aa281",
   "metadata": {},
   "outputs": [],
   "source": []
  },
  {
   "cell_type": "code",
   "execution_count": null,
   "id": "8e9ca61e-e0a3-4359-b58c-bcc84a01261e",
   "metadata": {},
   "outputs": [],
   "source": []
  },
  {
   "cell_type": "code",
   "execution_count": null,
   "id": "eb40694e-beac-455f-9edd-d0bcf508906b",
   "metadata": {},
   "outputs": [],
   "source": []
  },
  {
   "cell_type": "code",
   "execution_count": null,
   "id": "94233a96-e1e1-49ce-8755-708463d43659",
   "metadata": {},
   "outputs": [],
   "source": [
    "neuroviewer.select_roi.add(cell_roi)"
   ]
  },
  {
   "cell_type": "code",
   "execution_count": null,
   "id": "1d3c6709-6b14-4305-ac73-9e84ade537ba",
   "metadata": {},
   "outputs": [],
   "source": [
    "cell_roi.shape"
   ]
  },
  {
   "cell_type": "code",
   "execution_count": null,
   "id": "b17122b6-cd4d-489c-9a97-ae39b3e2da31",
   "metadata": {},
   "outputs": [],
   "source": [
    "\n"
   ]
  },
  {
   "cell_type": "code",
   "execution_count": null,
   "id": "5e617914-33c3-4917-983f-c334a1bb9f82",
   "metadata": {},
   "outputs": [],
   "source": [
    "neuroviewer.select_roi.data"
   ]
  },
  {
   "cell_type": "code",
   "execution_count": null,
   "id": "43810073-36d3-48bb-984d-67b332b7e619",
   "metadata": {},
   "outputs": [],
   "source": [
    "\n",
    "#neuroviewer.all_rois.data = shapes\n",
    "#neuroviewer.all_rois.edge_color = \"white\"\n",
    "#neuroviewer.all_rois.face_color = \"transparent\"\n",
    "\n",
    "neuroviewer.viewer.add_shapes(shapes, shape_type='polygon', edge_width=0.2,\n",
    "                          edge_color='white', face_color='transparent', z_index = z_index)"
   ]
  },
  {
   "cell_type": "code",
   "execution_count": null,
   "id": "450e0a58-6966-402a-aea3-7ec7dcd142f8",
   "metadata": {},
   "outputs": [],
   "source": [
    "\n",
    "\n",
    "stim_duration"
   ]
  },
  {
   "cell_type": "code",
   "execution_count": null,
   "id": "d4fac039-657b-4c74-a33d-3104a5bd2d2d",
   "metadata": {},
   "outputs": [],
   "source": [
    "start =12\n",
    "end = 24\n",
    "stim_duration = end - start"
   ]
  },
  {
   "cell_type": "code",
   "execution_count": null,
   "id": "3c50cff4-16f6-463a-81ae-4774f09ffef1",
   "metadata": {},
   "outputs": [],
   "source": []
  },
  {
   "cell_type": "code",
   "execution_count": null,
   "id": "80f6c9a8-926e-4b57-90e0-78d367f43760",
   "metadata": {},
   "outputs": [],
   "source": []
  },
  {
   "cell_type": "code",
   "execution_count": null,
   "id": "5cb7d69c-27e1-4136-b557-68bd846d1fad",
   "metadata": {},
   "outputs": [],
   "source": [
    "start = neuroviewer.cond_start - neuroviewer.first_vol\n",
    "end = neuroviewer.cond_end - neuroviewer.first_vol\n",
    "stim_duration = end - start\n",
    "\n",
    "nframes = stim_duration\n",
    "centre_rs = np.tile(np.array([0, 30, 30]), (4, 1))\n",
    "centres = np.stack([centre_rs] * nframes)\n",
    "frame_pos = np.tile(np.arange(start, end).T, (4, 1)).T\n",
    "centres[:, :, 0] = frame_pos\n",
    "add_array = np.array([[0, -10, -10],\n",
    "                              [0, -10, 10],\n",
    "                              [0, 10, 10],\n",
    "                              [0, 10, -10]])\n",
    "\n",
    "#define boxes by adding to centre_rs\n",
    "boxes = centres + add_array.reshape(-1, *add_array.shape)\n",
    "labels = [\"stim\"] * stim_duration\n",
    "properties = {\n",
    "    'label': labels,\n",
    "\n",
    "}\n",
    "\n",
    "# specify the display parameters for the text\n",
    "text_params = {\n",
    "    'text': 'label: {label}',\n",
    "    'size': 12,\n",
    "    'color': 'green',\n",
    "    'anchor': 'upper_left',\n",
    "    'translation': [-3, 0]}\n",
    "\n",
    "neuroviewer.stim_icon.data = boxes\n",
    "neuroviewer.stim_icon.properties = properties\n",
    "neuroviewer.stim_icon.text = text_params\n",
    "\n"
   ]
  },
  {
   "cell_type": "code",
   "execution_count": null,
   "id": "307e01ad-cde4-4130-a376-91fe94e25866",
   "metadata": {},
   "outputs": [],
   "source": []
  },
  {
   "cell_type": "code",
   "execution_count": null,
   "id": "00a1e77a-32d3-4cb2-98ab-88202e9c2a7f",
   "metadata": {},
   "outputs": [],
   "source": []
  },
  {
   "cell_type": "code",
   "execution_count": null,
   "id": "e883c964-82bf-4fb2-b9b5-9647e40e273a",
   "metadata": {},
   "outputs": [],
   "source": [
    "neuroviewer.stim_icon.data"
   ]
  },
  {
   "cell_type": "code",
   "execution_count": null,
   "id": "01c18264-e99b-40fa-b4ad-7dfa51c9cd50",
   "metadata": {},
   "outputs": [],
   "source": [
    "dff = pd.read_hdf(r\"C:\\Users\\pierc\\Desktop\\dff.h5\")\n",
    "dff.head()"
   ]
  },
  {
   "cell_type": "code",
   "execution_count": null,
   "id": "e5d54816-00de-4b44-84a8-5bf747e2f6cc",
   "metadata": {},
   "outputs": [],
   "source": [
    "neuroviewer.dff_tidy.head()"
   ]
  },
  {
   "cell_type": "code",
   "execution_count": null,
   "id": "296c852c-d965-4b4f-8065-efa121025bba",
   "metadata": {},
   "outputs": [],
   "source": [
    "stim_filter = neuroviewer.dff_tidy.stim == neuroviewer.stim\n",
    "angle_filter = neuroviewer.dff_tidy.angle == neuroviewer.angle\n",
    "velocity_filter = neuroviewer.dff_tidy.velocity == neuroviewer.velocity\n",
    "trial_filter = neuroviewer.dff_tidy.trial == neuroviewer.trial\n",
    "cell_filter = neuroviewer.dff_tidy.cell_id == neuroviewer.cell"
   ]
  },
  {
   "cell_type": "code",
   "execution_count": null,
   "id": "f1c07176-d509-4fc4-a392-3d8445c730ff",
   "metadata": {},
   "outputs": [],
   "source": [
    "dff_df = neuroviewer.dff_tidy"
   ]
  },
  {
   "cell_type": "code",
   "execution_count": null,
   "id": "15157603-61c7-44dd-84ed-550b7e3a7015",
   "metadata": {},
   "outputs": [],
   "source": [
    "#neuroviewer.dff_tidy == dff_df\n",
    "vol_filter = neuroviewer.dff_tidy.nVol.isin(neuroviewer.vols)\n",
    "vol_filter"
   ]
  },
  {
   "cell_type": "code",
   "execution_count": null,
   "id": "a139c806-e6c7-4bb1-afc9-d1c351f02ea8",
   "metadata": {},
   "outputs": [],
   "source": [
    "regions = [\n",
    "    ([0, 1], \"vertical\"),\n",
    "]\n",
    "\n",
    "layer = neuroviewer.viewer1d.add_region(\n",
    "    regions,\n",
    "    color=[white],\n",
    "    opacity = 0.5,\n",
    "    name = \"Stim\",\n",
    ")"
   ]
  },
  {
   "cell_type": "code",
   "execution_count": null,
   "id": "c88a9571-0408-4c89-82a1-755743237e68",
   "metadata": {},
   "outputs": [],
   "source": [
    "neuroviewer.dff_subset = neuroviewer.dff_tidy[stim_filter & angle_filter & velocity_filter & cell_filter]\n",
    "neuroviewer.dff_subset.head()"
   ]
  },
  {
   "cell_type": "code",
   "execution_count": null,
   "id": "ad14b5a9-2ee3-4faa-b25b-5330182ab72b",
   "metadata": {},
   "outputs": [],
   "source": [
    "neuroviewer.dff_subset.shape"
   ]
  },
  {
   "cell_type": "code",
   "execution_count": null,
   "id": "df8256ff-2c02-42ee-9763-1371326c0ec6",
   "metadata": {},
   "outputs": [],
   "source": [
    "np.arange(0, plotting_subset.shape[0]/neuroviewer.fr, 1/neuroviewer.fr)"
   ]
  },
  {
   "cell_type": "code",
   "execution_count": null,
   "id": "3780b1cd-1215-463f-81f5-10a9906ab004",
   "metadata": {},
   "outputs": [],
   "source": [
    "plotting_subset.shape"
   ]
  },
  {
   "cell_type": "code",
   "execution_count": null,
   "id": "ecb6dcbc-6606-491c-aec8-64472d06151b",
   "metadata": {},
   "outputs": [],
   "source": []
  },
  {
   "cell_type": "code",
   "execution_count": null,
   "id": "708f1d38-a5e5-4591-97b6-90dc2f858d23",
   "metadata": {},
   "outputs": [],
   "source": [
    "t.shape"
   ]
  },
  {
   "cell_type": "code",
   "execution_count": null,
   "id": "33d6c0a0-327d-4fef-af4d-8f9f109c5c41",
   "metadata": {},
   "outputs": [],
   "source": [
    "for trial in neuroviewer.dff_subset.trial.unique():\n",
    "    trial_subset = neuroviewer.dff_subset[neuroviewer.dff_subset.trial == trial]\n",
    "    trial_start = trial_subset.nVol.iloc[0]\n",
    "    trial_end = trial_subset.nVol.iloc[-1]\n",
    "    vols_before = int(4 * neuroviewer.fr)\n",
    "    first_vol = trial_start - vols_before\n",
    "    last_vol = trial_end + vols_before\n",
    "    vols = np.arange(first_vol, last_vol)\n",
    "    vol_filter = neuroviewer.dff_tidy.nVol.isin(vols)\n",
    "    \n",
    "    plotting_subset = neuroviewer.dff_tidy[cell_filter & vol_filter]\n",
    "    t = np.arange(0, plotting_subset.shape[0]/neuroviewer.fr, 1/neuroviewer.fr)\n",
    "\n",
    "    if trial == neuroviewer.trial:\n",
    "        \n",
    "        neuroviewer.viewer1d.add_line(np.c_[t, plotting_subset.dff.to_numpy()], color = \"magenta\")\n",
    "\n",
    "    else:\n",
    "        neuroviewer.viewer1d.add_line(np.c_[t, plotting_subset.dff.to_numpy()], name=\"trial {}\".format(trial), color=\"gray\")\n",
    "        \n",
    "    neuroviewer.viewer1d.reset_view()"
   ]
  },
  {
   "cell_type": "code",
   "execution_count": null,
   "id": "3bfe15de-400a-4a87-ba5e-acaf6f3920ac",
   "metadata": {},
   "outputs": [],
   "source": [
    "plotting_subset.shape, t.shape"
   ]
  },
  {
   "cell_type": "code",
   "execution_count": null,
   "id": "d0866a02-043a-4986-803d-faad3cac6289",
   "metadata": {},
   "outputs": [],
   "source": [
    "trial_start = trial_subset.nVol.iloc[0]\n",
    "trial_end = trial_subset.nVol.iloc[-1]\n",
    "vols_before = int(4 * neuroviewer.fr)\n",
    "first_vol = trial_start - vols_before\n",
    "last_vol = trial_end + vols_before\n",
    "vols = np.arange(first_vol, last_vol)\n",
    "vol_filter = neuroviewer.dff_tidy.nVol.isin(vols)\n",
    "\n",
    "plotting_subset = neuroviewer.dff_tidy[cell_filter & vol_filter]"
   ]
  },
  {
   "cell_type": "code",
   "execution_count": null,
   "id": "9caccc8d-c981-4a46-9ab2-7fd7a308272e",
   "metadata": {},
   "outputs": [],
   "source": [
    "plotting_subset"
   ]
  },
  {
   "cell_type": "code",
   "execution_count": null,
   "id": "8fd42f04-935f-4b2f-8674-35f2bd16386f",
   "metadata": {},
   "outputs": [],
   "source": [
    "np.c_[trial_subset.timebyepoch.to_numpy(), trial_subset.dff.to_numpy()]"
   ]
  },
  {
   "cell_type": "code",
   "execution_count": null,
   "id": "debdd729-be16-4862-a7e6-7ff060387727",
   "metadata": {},
   "outputs": [],
   "source": [
    "trial_subset.timebyepoch.to_numpy()"
   ]
  },
  {
   "cell_type": "code",
   "execution_count": null,
   "id": "e8771f03-015f-4242-9f14-9e925caf18fb",
   "metadata": {},
   "outputs": [],
   "source": [
    "trial_subset.dff.to_numpy()"
   ]
  },
  {
   "cell_type": "code",
   "execution_count": null,
   "id": "fcdfce88-68a0-4e74-ad98-319cbd25ba62",
   "metadata": {},
   "outputs": [],
   "source": [
    "neuroviewer.velocity = 1.0\n",
    "\n",
    "stim_filter = neuroviewer.volume_df.stim == neuroviewer.stim\n",
    "angle_filter = neuroviewer.volume_df.angle == neuroviewer.angle\n",
    "velocity_filter = neuroviewer.volume_df.velocity == neuroviewer.velocity\n",
    "trial_filter = neuroviewer.volume_df.trial == neuroviewer.trial\n",
    "\n",
    "neuroviewer.volume_subset = neuroviewer.volume_df[(stim_filter) & (angle_filter) & ( velocity_filter) & (trial_filter)]\n",
    "neuroviewer.vols = neuroviewer.volume_subset.nVol\n",
    "neuroviewer.vols"
   ]
  },
  {
   "cell_type": "code",
   "execution_count": null,
   "id": "3279051c-c520-4d00-85ab-e94d0afd7fd3",
   "metadata": {},
   "outputs": [],
   "source": []
  },
  {
   "cell_type": "code",
   "execution_count": null,
   "id": "3599262a-4cd3-4fd4-be07-e3aa2c404a2c",
   "metadata": {},
   "outputs": [],
   "source": [
    "neuroviewer.trial = 0 "
   ]
  },
  {
   "cell_type": "code",
   "execution_count": null,
   "id": "ac562684-951a-4a46-816a-0284dcb9ef24",
   "metadata": {},
   "outputs": [],
   "source": [
    "neuroviewer.volume_df[(neuroviewer.volume_df.stim == self.stim)]"
   ]
  },
  {
   "cell_type": "code",
   "execution_count": null,
   "id": "982e2f16-e7f2-49e8-8745-58167a4ed3fa",
   "metadata": {},
   "outputs": [],
   "source": [
    "dff_df = pd.read_hdf(os.path.join(neuroviewer.denoised_dir, \"dff.h5\"))"
   ]
  },
  {
   "cell_type": "code",
   "execution_count": null,
   "id": "555c48a6-3937-49ac-8a78-18263841f80b",
   "metadata": {},
   "outputs": [],
   "source": [
    "dff_df.set_index(\"cell_id\", inplace = True)\n",
    "dff_df.head()"
   ]
  },
  {
   "cell_type": "code",
   "execution_count": null,
   "id": "7b13e032-12f1-40ed-8603-9e785ee5ed8f",
   "metadata": {},
   "outputs": [],
   "source": [
    "neuroviewer.dff_tidy.T.to_hdf(os.path.join(neuroviewer.denoised_dir, \"dff_test.h5\"), \"df\")"
   ]
  },
  {
   "cell_type": "code",
   "execution_count": null,
   "id": "f048030b-adf1-4133-9db0-63d89b5cacbc",
   "metadata": {},
   "outputs": [],
   "source": [
    "neuroviewer.dff_tidy.T.shape"
   ]
  },
  {
   "cell_type": "code",
   "execution_count": null,
   "id": "5e02ad04-5f3a-4018-9d3e-b52f426900c0",
   "metadata": {},
   "outputs": [],
   "source": [
    "neuroviewer.load_dff_df()"
   ]
  },
  {
   "cell_type": "code",
   "execution_count": null,
   "id": "ae6800da-ee1c-43ee-abc4-d5a127ae3529",
   "metadata": {},
   "outputs": [],
   "source": [
    "neurovi"
   ]
  },
  {
   "cell_type": "code",
   "execution_count": null,
   "id": "0c324f44-49e0-4b83-828d-c013623a5fb7",
   "metadata": {},
   "outputs": [],
   "source": [
    "neuroviewer.im\n",
    "napari.run()"
   ]
  },
  {
   "cell_type": "code",
   "execution_count": null,
   "id": "2ce80d97-3614-478a-9150-098ae40c8325",
   "metadata": {},
   "outputs": [],
   "source": [
    "#viewer = napari.Viewer()\n",
    "\n",
    "\n",
    "\n",
    "viewer1d = napari_plot.ViewerModel1D()\n",
    "widget = QtViewer(viewer1d)\n",
    "viewer.window.add_dock_widget(widget, area=\"bottom\", name=\"Line Widget\")\n",
    "\n",
    "# example data\n",
    "x = np.arange(0.1, 4, 0.1)\n",
    "y1 = np.exp(-1.0 * x)\n",
    "y2 = np.exp(-0.5 * x)\n",
    "\n",
    "# example variable error bar values\n",
    "y1err = 0.1 + 0.1 * np.sqrt(x)\n",
    "y2err = 0.1 + 0.1 * np.sqrt(x / 2)\n",
    "\n",
    "\n",
    "viewer1d.add_line(np.c_[x, y1], name=\"Line 1\", color=\"lightblue\")\n",
    "viewer1d.add_centroids(\n",
    "    np.c_[x, y1 - y1err, y1 + y1err], orientation=\"vertical\", color=\"lightblue\", opacity=0.5, name=\"Line 1 (errors)\"\n",
    ")\n",
    "viewer1d.add_line(np.c_[x, y2], name=\"Line 2\", color=\"orange\")\n",
    "viewer1d.add_centroids(\n",
    "    np.c_[x, y2 - y2err, y2 + y2err], orientation=\"vertical\", color=\"orange\", opacity=0.5, name=\"Line 2 (errors)\"\n",
    ")\n",
    "viewer1d.camera.extent = (-0.1, 4.1, 1.0, -0.3)\n",
    "viewer1d.axis.x_label = \"\"\n",
    "viewer1d.axis.y_label = \"\"\n",
    "viewer1d.reset_view()\n",
    "\n",
    "napari.run()"
   ]
  },
  {
   "cell_type": "code",
   "execution_count": null,
   "id": "4501bf7c-9a3e-4db8-89b1-bfc835616c41",
   "metadata": {},
   "outputs": [],
   "source": [
    "neuroviewer.add_dff_widget()"
   ]
  },
  {
   "cell_type": "code",
   "execution_count": null,
   "id": "be67fe79-048f-466c-a03f-49d01c9cd02a",
   "metadata": {},
   "outputs": [],
   "source": []
  }
 ],
 "metadata": {
  "kernelspec": {
   "display_name": "Python 3",
   "language": "python",
   "name": "python3"
  },
  "language_info": {
   "codemirror_mode": {
    "name": "ipython",
    "version": 3
   },
   "file_extension": ".py",
   "mimetype": "text/x-python",
   "name": "python",
   "nbconvert_exporter": "python",
   "pygments_lexer": "ipython3",
   "version": "3.9.2"
  }
 },
 "nbformat": 4,
 "nbformat_minor": 5
}
